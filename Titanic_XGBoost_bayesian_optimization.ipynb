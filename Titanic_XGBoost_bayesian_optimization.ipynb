{
 "cells": [
  {
   "cell_type": "markdown",
   "metadata": {},
   "source": [
    "## XGBoost & Bayesian optimization\n",
    "This notebook shows the resolution of the Titanic's problem with a XGBoost, optimised using Bayesian optimisation.We will also look at the different steps in data analysis."
   ]
  },
  {
   "cell_type": "code",
   "execution_count": 1,
   "metadata": {
    "_cell_guid": "b1076dfc-b9ad-4769-8c92-a6c4dae69d19",
    "_uuid": "8f2839f25d086af736a60e9eeb907d3b93b6e0e5"
   },
   "outputs": [],
   "source": [
    "import numpy as np \n",
    "import pandas as pd \n",
    "import seaborn as sns\n",
    "%matplotlib inline\n",
    "from matplotlib import pyplot as plt\n",
    "from matplotlib import style"
   ]
  },
  {
   "cell_type": "markdown",
   "metadata": {},
   "source": [
    "### Data recovery"
   ]
  },
  {
   "cell_type": "code",
   "execution_count": 2,
   "metadata": {
    "_cell_guid": "79c7e3d0-c299-4dcb-8224-4455121ee9b0",
    "_uuid": "d629ff2d2480ee46fbb7e2d37f6b5fab8052498a"
   },
   "outputs": [],
   "source": [
    "df_train=pd.read_csv(\"./kaggle/input/titanic/train.csv\")\n",
    "df_test=pd.read_csv(\"./kaggle/input/titanic/test.csv\")"
   ]
  },
  {
   "cell_type": "markdown",
   "metadata": {},
   "source": [
    "### Data analysis\n"
   ]
  },
  {
   "cell_type": "code",
   "execution_count": 3,
   "metadata": {},
   "outputs": [
    {
     "name": "stdout",
     "output_type": "stream",
     "text": [
      "<class 'pandas.core.frame.DataFrame'>\n",
      "RangeIndex: 891 entries, 0 to 890\n",
      "Data columns (total 12 columns):\n",
      " #   Column       Non-Null Count  Dtype  \n",
      "---  ------       --------------  -----  \n",
      " 0   PassengerId  891 non-null    int64  \n",
      " 1   Survived     891 non-null    int64  \n",
      " 2   Pclass       891 non-null    int64  \n",
      " 3   Name         891 non-null    object \n",
      " 4   Sex          891 non-null    object \n",
      " 5   Age          714 non-null    float64\n",
      " 6   SibSp        891 non-null    int64  \n",
      " 7   Parch        891 non-null    int64  \n",
      " 8   Ticket       891 non-null    object \n",
      " 9   Fare         891 non-null    float64\n",
      " 10  Cabin        204 non-null    object \n",
      " 11  Embarked     889 non-null    object \n",
      "dtypes: float64(2), int64(5), object(5)\n",
      "memory usage: 83.7+ KB\n"
     ]
    }
   ],
   "source": [
    "df_train.info()"
   ]
  },
  {
   "cell_type": "code",
   "execution_count": 4,
   "metadata": {},
   "outputs": [
    {
     "data": {
      "text/plain": [
       "PassengerId      0\n",
       "Pclass           0\n",
       "Name             0\n",
       "Sex              0\n",
       "Age             86\n",
       "SibSp            0\n",
       "Parch            0\n",
       "Ticket           0\n",
       "Fare             1\n",
       "Cabin          327\n",
       "Embarked         0\n",
       "dtype: int64"
      ]
     },
     "execution_count": 4,
     "metadata": {},
     "output_type": "execute_result"
    }
   ],
   "source": [
    "df_test.isnull().sum()"
   ]
  },
  {
   "cell_type": "code",
   "execution_count": 5,
   "metadata": {},
   "outputs": [
    {
     "data": {
      "text/plain": [
       "PassengerId      0\n",
       "Survived         0\n",
       "Pclass           0\n",
       "Name             0\n",
       "Sex              0\n",
       "Age            177\n",
       "SibSp            0\n",
       "Parch            0\n",
       "Ticket           0\n",
       "Fare             0\n",
       "Cabin          687\n",
       "Embarked         2\n",
       "dtype: int64"
      ]
     },
     "execution_count": 5,
     "metadata": {},
     "output_type": "execute_result"
    }
   ],
   "source": [
    "df_train.isnull().sum()"
   ]
  },
  {
   "cell_type": "code",
   "execution_count": 6,
   "metadata": {},
   "outputs": [
    {
     "data": {
      "text/html": [
       "<div>\n",
       "<style scoped>\n",
       "    .dataframe tbody tr th:only-of-type {\n",
       "        vertical-align: middle;\n",
       "    }\n",
       "\n",
       "    .dataframe tbody tr th {\n",
       "        vertical-align: top;\n",
       "    }\n",
       "\n",
       "    .dataframe thead th {\n",
       "        text-align: right;\n",
       "    }\n",
       "</style>\n",
       "<table border=\"1\" class=\"dataframe\">\n",
       "  <thead>\n",
       "    <tr style=\"text-align: right;\">\n",
       "      <th></th>\n",
       "      <th>PassengerId</th>\n",
       "      <th>Survived</th>\n",
       "      <th>Pclass</th>\n",
       "      <th>Name</th>\n",
       "      <th>Sex</th>\n",
       "      <th>Age</th>\n",
       "      <th>SibSp</th>\n",
       "      <th>Parch</th>\n",
       "      <th>Ticket</th>\n",
       "      <th>Fare</th>\n",
       "      <th>Cabin</th>\n",
       "      <th>Embarked</th>\n",
       "    </tr>\n",
       "  </thead>\n",
       "  <tbody>\n",
       "    <tr>\n",
       "      <th>0</th>\n",
       "      <td>1</td>\n",
       "      <td>0</td>\n",
       "      <td>3</td>\n",
       "      <td>Braund, Mr. Owen Harris</td>\n",
       "      <td>male</td>\n",
       "      <td>22.0</td>\n",
       "      <td>1</td>\n",
       "      <td>0</td>\n",
       "      <td>A/5 21171</td>\n",
       "      <td>7.2500</td>\n",
       "      <td>NaN</td>\n",
       "      <td>S</td>\n",
       "    </tr>\n",
       "    <tr>\n",
       "      <th>1</th>\n",
       "      <td>2</td>\n",
       "      <td>1</td>\n",
       "      <td>1</td>\n",
       "      <td>Cumings, Mrs. John Bradley (Florence Briggs Th...</td>\n",
       "      <td>female</td>\n",
       "      <td>38.0</td>\n",
       "      <td>1</td>\n",
       "      <td>0</td>\n",
       "      <td>PC 17599</td>\n",
       "      <td>71.2833</td>\n",
       "      <td>C85</td>\n",
       "      <td>C</td>\n",
       "    </tr>\n",
       "    <tr>\n",
       "      <th>2</th>\n",
       "      <td>3</td>\n",
       "      <td>1</td>\n",
       "      <td>3</td>\n",
       "      <td>Heikkinen, Miss. Laina</td>\n",
       "      <td>female</td>\n",
       "      <td>26.0</td>\n",
       "      <td>0</td>\n",
       "      <td>0</td>\n",
       "      <td>STON/O2. 3101282</td>\n",
       "      <td>7.9250</td>\n",
       "      <td>NaN</td>\n",
       "      <td>S</td>\n",
       "    </tr>\n",
       "    <tr>\n",
       "      <th>3</th>\n",
       "      <td>4</td>\n",
       "      <td>1</td>\n",
       "      <td>1</td>\n",
       "      <td>Futrelle, Mrs. Jacques Heath (Lily May Peel)</td>\n",
       "      <td>female</td>\n",
       "      <td>35.0</td>\n",
       "      <td>1</td>\n",
       "      <td>0</td>\n",
       "      <td>113803</td>\n",
       "      <td>53.1000</td>\n",
       "      <td>C123</td>\n",
       "      <td>S</td>\n",
       "    </tr>\n",
       "    <tr>\n",
       "      <th>4</th>\n",
       "      <td>5</td>\n",
       "      <td>0</td>\n",
       "      <td>3</td>\n",
       "      <td>Allen, Mr. William Henry</td>\n",
       "      <td>male</td>\n",
       "      <td>35.0</td>\n",
       "      <td>0</td>\n",
       "      <td>0</td>\n",
       "      <td>373450</td>\n",
       "      <td>8.0500</td>\n",
       "      <td>NaN</td>\n",
       "      <td>S</td>\n",
       "    </tr>\n",
       "  </tbody>\n",
       "</table>\n",
       "</div>"
      ],
      "text/plain": [
       "   PassengerId  Survived  Pclass  \\\n",
       "0            1         0       3   \n",
       "1            2         1       1   \n",
       "2            3         1       3   \n",
       "3            4         1       1   \n",
       "4            5         0       3   \n",
       "\n",
       "                                                Name     Sex   Age  SibSp  \\\n",
       "0                            Braund, Mr. Owen Harris    male  22.0      1   \n",
       "1  Cumings, Mrs. John Bradley (Florence Briggs Th...  female  38.0      1   \n",
       "2                             Heikkinen, Miss. Laina  female  26.0      0   \n",
       "3       Futrelle, Mrs. Jacques Heath (Lily May Peel)  female  35.0      1   \n",
       "4                           Allen, Mr. William Henry    male  35.0      0   \n",
       "\n",
       "   Parch            Ticket     Fare Cabin Embarked  \n",
       "0      0         A/5 21171   7.2500   NaN        S  \n",
       "1      0          PC 17599  71.2833   C85        C  \n",
       "2      0  STON/O2. 3101282   7.9250   NaN        S  \n",
       "3      0            113803  53.1000  C123        S  \n",
       "4      0            373450   8.0500   NaN        S  "
      ]
     },
     "execution_count": 6,
     "metadata": {},
     "output_type": "execute_result"
    }
   ],
   "source": [
    "df_train.head()"
   ]
  },
  {
   "cell_type": "code",
   "execution_count": 7,
   "metadata": {},
   "outputs": [
    {
     "data": {
      "text/html": [
       "<div>\n",
       "<style scoped>\n",
       "    .dataframe tbody tr th:only-of-type {\n",
       "        vertical-align: middle;\n",
       "    }\n",
       "\n",
       "    .dataframe tbody tr th {\n",
       "        vertical-align: top;\n",
       "    }\n",
       "\n",
       "    .dataframe thead th {\n",
       "        text-align: right;\n",
       "    }\n",
       "</style>\n",
       "<table border=\"1\" class=\"dataframe\">\n",
       "  <thead>\n",
       "    <tr style=\"text-align: right;\">\n",
       "      <th></th>\n",
       "      <th>Missing data</th>\n",
       "      <th>percent of missing data</th>\n",
       "    </tr>\n",
       "  </thead>\n",
       "  <tbody>\n",
       "    <tr>\n",
       "      <th>PassengerId</th>\n",
       "      <td>0</td>\n",
       "      <td>0.0</td>\n",
       "    </tr>\n",
       "    <tr>\n",
       "      <th>Survived</th>\n",
       "      <td>0</td>\n",
       "      <td>0.0</td>\n",
       "    </tr>\n",
       "    <tr>\n",
       "      <th>Pclass</th>\n",
       "      <td>0</td>\n",
       "      <td>0.0</td>\n",
       "    </tr>\n",
       "    <tr>\n",
       "      <th>Name</th>\n",
       "      <td>0</td>\n",
       "      <td>0.0</td>\n",
       "    </tr>\n",
       "    <tr>\n",
       "      <th>Sex</th>\n",
       "      <td>0</td>\n",
       "      <td>0.0</td>\n",
       "    </tr>\n",
       "    <tr>\n",
       "      <th>Age</th>\n",
       "      <td>177</td>\n",
       "      <td>20.0</td>\n",
       "    </tr>\n",
       "    <tr>\n",
       "      <th>SibSp</th>\n",
       "      <td>0</td>\n",
       "      <td>0.0</td>\n",
       "    </tr>\n",
       "    <tr>\n",
       "      <th>Parch</th>\n",
       "      <td>0</td>\n",
       "      <td>0.0</td>\n",
       "    </tr>\n",
       "    <tr>\n",
       "      <th>Ticket</th>\n",
       "      <td>0</td>\n",
       "      <td>0.0</td>\n",
       "    </tr>\n",
       "    <tr>\n",
       "      <th>Fare</th>\n",
       "      <td>0</td>\n",
       "      <td>0.0</td>\n",
       "    </tr>\n",
       "    <tr>\n",
       "      <th>Cabin</th>\n",
       "      <td>687</td>\n",
       "      <td>77.0</td>\n",
       "    </tr>\n",
       "    <tr>\n",
       "      <th>Embarked</th>\n",
       "      <td>2</td>\n",
       "      <td>0.0</td>\n",
       "    </tr>\n",
       "  </tbody>\n",
       "</table>\n",
       "</div>"
      ],
      "text/plain": [
       "             Missing data  percent of missing data\n",
       "PassengerId             0                      0.0\n",
       "Survived                0                      0.0\n",
       "Pclass                  0                      0.0\n",
       "Name                    0                      0.0\n",
       "Sex                     0                      0.0\n",
       "Age                   177                     20.0\n",
       "SibSp                   0                      0.0\n",
       "Parch                   0                      0.0\n",
       "Ticket                  0                      0.0\n",
       "Fare                    0                      0.0\n",
       "Cabin                 687                     77.0\n",
       "Embarked                2                      0.0"
      ]
     },
     "execution_count": 7,
     "metadata": {},
     "output_type": "execute_result"
    }
   ],
   "source": [
    "total = df_train.isnull().sum()\n",
    "percent = round(df_train.isnull().sum()/df_train.isnull().count()*100)\n",
    "missing_data = pd.concat([total, percent], axis=1, keys=['Missing data', 'percent of missing data'])\n",
    "missing_data"
   ]
  },
  {
   "cell_type": "code",
   "execution_count": 8,
   "metadata": {},
   "outputs": [
    {
     "data": {
      "text/plain": [
       "<matplotlib.legend.Legend at 0x209f7e49190>"
      ]
     },
     "execution_count": 8,
     "metadata": {},
     "output_type": "execute_result"
    },
    {
     "data": {
      "image/png": "[encoded data removed]",
      "text/plain": [
       "<Figure size 576x576 with 1 Axes>"
      ]
     },
     "metadata": {
      "needs_background": "light"
     },
     "output_type": "display_data"
    }
   ],
   "source": [
    "fig, axes = plt.subplots(nrows=1, ncols=1,figsize=(8, 8))\n",
    "ax = sns.histplot(df_train[df_train['Survived']==1].Fare.dropna(), bins=40, label = 'survived', kde =False, color = 'darkorange', alpha=0.5)\n",
    "ax = sns.histplot(df_train[df_train['Survived']==0].Fare.dropna(), bins=40, label = 'not_survived', kde =False, color = 'royalblue', alpha=0.5)\n",
    "ax.legend()"
   ]
  },
  {
   "cell_type": "code",
   "execution_count": 9,
   "metadata": {},
   "outputs": [
    {
     "data": {
      "text/plain": [
       "<seaborn.axisgrid.FacetGrid at 0x209f7de9850>"
      ]
     },
     "execution_count": 9,
     "metadata": {},
     "output_type": "execute_result"
    },
    {
     "data": {
      "image/png": "[encoded data removed]",
      "text/plain": [
       "<Figure size 360x360 with 1 Axes>"
      ]
     },
     "metadata": {
      "needs_background": "light"
     },
     "output_type": "display_data"
    }
   ],
   "source": [
    "sns.catplot(x='Survived', y='Fare', kind=\"box\", data=df_train)"
   ]
  },
  {
   "cell_type": "code",
   "execution_count": 10,
   "metadata": {},
   "outputs": [
    {
     "data": {
      "text/plain": [
       "Text(0.5, 1.0, 'Age distribution')"
      ]
     },
     "execution_count": 10,
     "metadata": {},
     "output_type": "execute_result"
    },
    {
     "data": {
      "image/png": "[encoded data removed]",
      "text/plain": [
       "<Figure size 576x576 with 1 Axes>"
      ]
     },
     "metadata": {
      "needs_background": "light"
     },
     "output_type": "display_data"
    }
   ],
   "source": [
    "fig, axes = plt.subplots(nrows=1, ncols=1,figsize=(8, 8))\n",
    "ax = sns.histplot(df_train.Age.dropna(),bins=40, label = 'Age of the passengers', kde =False, color = 'royalblue', alpha=0.5)\n",
    "ax.legend()\n",
    "ax.set_title('Age distribution')"
   ]
  },
  {
   "cell_type": "code",
   "execution_count": 11,
   "metadata": {},
   "outputs": [],
   "source": [
    "male = df_train[df_train['Sex']=='male']\n",
    "female = df_train[df_train['Sex']=='female']"
   ]
  },
  {
   "cell_type": "code",
   "execution_count": 12,
   "metadata": {},
   "outputs": [
    {
     "data": {
      "image/png": "[encoded data removed]",
      "text/plain": [
       "<Figure size 720x288 with 2 Axes>"
      ]
     },
     "metadata": {
      "needs_background": "light"
     },
     "output_type": "display_data"
    }
   ],
   "source": [
    "fig, axes = plt.subplots(nrows=1, ncols=2,figsize=(10, 4))\n",
    "ax = sns.histplot(female[female['Survived']==1].Age.dropna(), bins=20, label = 'survived', ax = axes[0], kde =False, color = 'darkorange', alpha=0.5)\n",
    "ax = sns.histplot(female[female['Survived']==0].Age.dropna(), bins=20, label = 'not_survived', ax = axes[0], kde =False, color = 'royalblue', alpha=0.5)\n",
    "ax.legend()\n",
    "ax.set_title('Female')\n",
    "ax = sns.histplot(male[male['Survived']==1].Age.dropna(), bins=20, label = 'survived', ax = axes[1], kde = False, color = 'darkorange', alpha=0.5)\n",
    "ax = sns.histplot(male[male['Survived']==0].Age.dropna(), bins=20, label = 'not_survived', ax = axes[1], kde = False, color = 'royalblue', alpha=0.5)\n",
    "ax.legend()\n",
    "_ = ax.set_title('Male')"
   ]
  },
  {
   "cell_type": "code",
   "execution_count": 13,
   "metadata": {},
   "outputs": [
    {
     "data": {
      "text/plain": [
       "<seaborn.axisgrid.FacetGrid at 0x209f8241190>"
      ]
     },
     "execution_count": 13,
     "metadata": {},
     "output_type": "execute_result"
    },
    {
     "data": {
      "image/png": "[encoded data removed]",
      "text/plain": [
       "<Figure size 360x360 with 1 Axes>"
      ]
     },
     "metadata": {
      "needs_background": "light"
     },
     "output_type": "display_data"
    }
   ],
   "source": [
    "sns.catplot(x='Survived', y='Age', kind=\"box\", data=df_train)"
   ]
  },
  {
   "cell_type": "code",
   "execution_count": 14,
   "metadata": {},
   "outputs": [
    {
     "data": {
      "text/plain": [
       "<matplotlib.legend.Legend at 0x209f83bbfd0>"
      ]
     },
     "execution_count": 14,
     "metadata": {},
     "output_type": "execute_result"
    },
    {
     "data": {
      "image/png": "[encoded data removed]",
      "text/plain": [
       "<Figure size 576x576 with 1 Axes>"
      ]
     },
     "metadata": {
      "needs_background": "light"
     },
     "output_type": "display_data"
    }
   ],
   "source": [
    "fig, axes = plt.subplots(nrows=1, ncols=1,figsize=(8, 8))\n",
    "ax = sns.histplot(df_train[df_train['Survived']==1].Age.dropna(), bins=40, label = 'survived', kde =False, color = 'darkorange', alpha=0.5)\n",
    "ax = sns.histplot(df_train[df_train['Survived']==0].Age.dropna(), bins=40, label = 'not_survived', kde =False, color = 'royalblue', alpha=0.5)\n",
    "ax.legend()"
   ]
  },
  {
   "cell_type": "code",
   "execution_count": 15,
   "metadata": {},
   "outputs": [],
   "source": [
    "df_train['tmp_age'] = pd.qcut(df_train['Age'], 6)\n",
    "age_slice=df_train[['tmp_age', 'Survived']].groupby(['tmp_age'], as_index=False).mean()"
   ]
  },
  {
   "cell_type": "code",
   "execution_count": 16,
   "metadata": {},
   "outputs": [
    {
     "data": {
      "text/plain": [
       "Text(0.5, 1.0, 'Chance to survive in function of the Pclass')"
      ]
     },
     "execution_count": 16,
     "metadata": {},
     "output_type": "execute_result"
    },
    {
     "data": {
      "image/png": "[encoded data removed]",
      "text/plain": [
       "<Figure size 576x576 with 1 Axes>"
      ]
     },
     "metadata": {
      "needs_background": "light"
     },
     "output_type": "display_data"
    }
   ],
   "source": [
    "fig, axes = plt.subplots(nrows=1, ncols=1,figsize=(8, 8))\n",
    "ax = sns.countplot(y='Survived', hue='Pclass', data=df_train)\n",
    "ax.legend()\n",
    "ax.set_title('Chance to survive in function of the Pclass')"
   ]
  },
  {
   "cell_type": "code",
   "execution_count": 17,
   "metadata": {},
   "outputs": [
    {
     "data": {
      "text/plain": [
       "<seaborn.axisgrid.FacetGrid at 0x209f83bb250>"
      ]
     },
     "execution_count": 17,
     "metadata": {},
     "output_type": "execute_result"
    },
    {
     "data": {
      "image/png": "[encoded data removed]",
      "text/plain": [
       "<Figure size 402.375x360 with 1 Axes>"
      ]
     },
     "metadata": {
      "needs_background": "light"
     },
     "output_type": "display_data"
    }
   ],
   "source": [
    "sns.catplot(x=\"Sex\", y=\"Survived\", hue=\"Pclass\", kind=\"bar\", data=df_train)"
   ]
  },
  {
   "cell_type": "code",
   "execution_count": 18,
   "metadata": {},
   "outputs": [
    {
     "data": {
      "text/plain": [
       "<seaborn.axisgrid.FacetGrid at 0x209f836da00>"
      ]
     },
     "execution_count": 18,
     "metadata": {},
     "output_type": "execute_result"
    },
    {
     "data": {
      "image/png": "[encoded data removed]",
      "text/plain": [
       "<Figure size 402.375x360 with 1 Axes>"
      ]
     },
     "metadata": {
      "needs_background": "light"
     },
     "output_type": "display_data"
    }
   ],
   "source": [
    "sns.catplot(x=\"Sex\", y=\"Survived\", hue=\"Pclass\", kind=\"point\", data=df_train)"
   ]
  },
  {
   "cell_type": "code",
   "execution_count": 19,
   "metadata": {},
   "outputs": [
    {
     "data": {
      "text/plain": [
       "<seaborn.axisgrid.FacetGrid at 0x209f8663130>"
      ]
     },
     "execution_count": 19,
     "metadata": {},
     "output_type": "execute_result"
    },
    {
     "data": {
      "image/png": "[encoded data removed]",
      "text/plain": [
       "<Figure size 360x360 with 1 Axes>"
      ]
     },
     "metadata": {
      "needs_background": "light"
     },
     "output_type": "display_data"
    }
   ],
   "source": [
    "sns.catplot(x=\"Embarked\", kind=\"count\", palette=\"ch:.25\", data=df_train)"
   ]
  },
  {
   "cell_type": "code",
   "execution_count": 20,
   "metadata": {},
   "outputs": [
    {
     "data": {
      "text/plain": [
       "<seaborn.axisgrid.FacetGrid at 0x209f8640b20>"
      ]
     },
     "execution_count": 20,
     "metadata": {},
     "output_type": "execute_result"
    },
    {
     "data": {
      "image/png": "[encoded data removed]",
      "text/plain": [
       "<Figure size 402.375x360 with 1 Axes>"
      ]
     },
     "metadata": {
      "needs_background": "light"
     },
     "output_type": "display_data"
    }
   ],
   "source": [
    "sns.catplot(y=\"Embarked\", hue=\"Pclass\", kind=\"count\",\n",
    "           palette=\"pastel\", edgecolor=\".6\",\n",
    "            data=df_train)"
   ]
  },
  {
   "cell_type": "code",
   "execution_count": 21,
   "metadata": {},
   "outputs": [
    {
     "data": {
      "text/plain": [
       "<seaborn.axisgrid.FacetGrid at 0x209f86b6b50>"
      ]
     },
     "execution_count": 21,
     "metadata": {},
     "output_type": "execute_result"
    },
    {
     "data": {
      "image/png": "[encoded data removed]",
      "text/plain": [
       "<Figure size 360x360 with 1 Axes>"
      ]
     },
     "metadata": {
      "needs_background": "light"
     },
     "output_type": "display_data"
    }
   ],
   "source": [
    "sns.catplot(x=\"Fare\", y=\"Embarked\", kind=\"box\", data=df_train)"
   ]
  },
  {
   "cell_type": "code",
   "execution_count": 22,
   "metadata": {},
   "outputs": [
    {
     "data": {
      "text/plain": [
       "<AxesSubplot:xlabel='SibSp', ylabel='count'>"
      ]
     },
     "execution_count": 22,
     "metadata": {},
     "output_type": "execute_result"
    },
    {
     "data": {
      "image/png": "[encoded data removed]",
      "text/plain": [
       "<Figure size 432x288 with 1 Axes>"
      ]
     },
     "metadata": {
      "needs_background": "light"
     },
     "output_type": "display_data"
    }
   ],
   "source": [
    "sns.countplot(x='SibSp',data=df_train)"
   ]
  },
  {
   "cell_type": "code",
   "execution_count": 23,
   "metadata": {},
   "outputs": [
    {
     "data": {
      "text/plain": [
       "<seaborn.axisgrid.FacetGrid at 0x209e4f00e20>"
      ]
     },
     "execution_count": 23,
     "metadata": {},
     "output_type": "execute_result"
    },
    {
     "data": {
      "image/png": "[encoded data removed]",
      "text/plain": [
       "<Figure size 402.375x360 with 1 Axes>"
      ]
     },
     "metadata": {
      "needs_background": "light"
     },
     "output_type": "display_data"
    }
   ],
   "source": [
    "sns.catplot(x=\"SibSp\", y=\"Survived\", hue=\"Pclass\", kind=\"bar\", data=df_train)"
   ]
  },
  {
   "cell_type": "code",
   "execution_count": 24,
   "metadata": {},
   "outputs": [
    {
     "data": {
      "text/plain": [
       "<seaborn.axisgrid.FacetGrid at 0x209f82f8280>"
      ]
     },
     "execution_count": 24,
     "metadata": {},
     "output_type": "execute_result"
    },
    {
     "data": {
      "image/png": "[encoded data removed]",
      "text/plain": [
       "<Figure size 900x360 with 1 Axes>"
      ]
     },
     "metadata": {
      "needs_background": "light"
     },
     "output_type": "display_data"
    }
   ],
   "source": [
    "sns.catplot(x='SibSp',y='Survived', kind='point', data=df_train, aspect = 2.5)"
   ]
  },
  {
   "cell_type": "code",
   "execution_count": 25,
   "metadata": {},
   "outputs": [
    {
     "data": {
      "text/plain": [
       "<seaborn.axisgrid.FacetGrid at 0x209f828bd90>"
      ]
     },
     "execution_count": 25,
     "metadata": {},
     "output_type": "execute_result"
    },
    {
     "data": {
      "image/png": "[encoded data removed]",
      "text/plain": [
       "<Figure size 360x360 with 1 Axes>"
      ]
     },
     "metadata": {
      "needs_background": "light"
     },
     "output_type": "display_data"
    }
   ],
   "source": [
    "sns.catplot(x=\"Parch\", y=\"Survived\" , kind=\"bar\", data=df_train)"
   ]
  },
  {
   "cell_type": "code",
   "execution_count": 26,
   "metadata": {},
   "outputs": [
    {
     "data": {
      "text/plain": [
       "<seaborn.axisgrid.FacetGrid at 0x209f9c10d60>"
      ]
     },
     "execution_count": 26,
     "metadata": {},
     "output_type": "execute_result"
    },
    {
     "data": {
      "image/png": "[encoded data removed]",
      "text/plain": [
       "<Figure size 900x360 with 1 Axes>"
      ]
     },
     "metadata": {
      "needs_background": "light"
     },
     "output_type": "display_data"
    }
   ],
   "source": [
    "sns.catplot(x='Parch',y='Survived', kind='point',data=df_train, aspect = 2.5)"
   ]
  },
  {
   "cell_type": "markdown",
   "metadata": {},
   "source": [
    "Data preprocessing\n",
    "First of all we gone extract the information contain in the variable cabin. The varaible cabin is composed of the deck and the number of the cabin. So we will replace the column Cabin by a column Deck."
   ]
  },
  {
   "cell_type": "code",
   "execution_count": 27,
   "metadata": {},
   "outputs": [
    {
     "data": {
      "text/html": [
       "<div>\n",
       "<style scoped>\n",
       "    .dataframe tbody tr th:only-of-type {\n",
       "        vertical-align: middle;\n",
       "    }\n",
       "\n",
       "    .dataframe tbody tr th {\n",
       "        vertical-align: top;\n",
       "    }\n",
       "\n",
       "    .dataframe thead th {\n",
       "        text-align: right;\n",
       "    }\n",
       "</style>\n",
       "<table border=\"1\" class=\"dataframe\">\n",
       "  <thead>\n",
       "    <tr style=\"text-align: right;\">\n",
       "      <th></th>\n",
       "      <th>Fare</th>\n",
       "    </tr>\n",
       "    <tr>\n",
       "      <th>Pclass</th>\n",
       "      <th></th>\n",
       "    </tr>\n",
       "  </thead>\n",
       "  <tbody>\n",
       "    <tr>\n",
       "      <th>1</th>\n",
       "      <td>94.280297</td>\n",
       "    </tr>\n",
       "    <tr>\n",
       "      <th>2</th>\n",
       "      <td>22.202104</td>\n",
       "    </tr>\n",
       "    <tr>\n",
       "      <th>3</th>\n",
       "      <td>12.459678</td>\n",
       "    </tr>\n",
       "  </tbody>\n",
       "</table>\n",
       "</div>"
      ],
      "text/plain": [
       "             Fare\n",
       "Pclass           \n",
       "1       94.280297\n",
       "2       22.202104\n",
       "3       12.459678"
      ]
     },
     "execution_count": 27,
     "metadata": {},
     "output_type": "execute_result"
    }
   ],
   "source": [
    "df_test[['Fare', 'Pclass']].groupby(['Pclass']).mean()"
   ]
  },
  {
   "cell_type": "code",
   "execution_count": 28,
   "metadata": {},
   "outputs": [
    {
     "data": {
      "text/html": [
       "<div>\n",
       "<style scoped>\n",
       "    .dataframe tbody tr th:only-of-type {\n",
       "        vertical-align: middle;\n",
       "    }\n",
       "\n",
       "    .dataframe tbody tr th {\n",
       "        vertical-align: top;\n",
       "    }\n",
       "\n",
       "    .dataframe thead th {\n",
       "        text-align: right;\n",
       "    }\n",
       "</style>\n",
       "<table border=\"1\" class=\"dataframe\">\n",
       "  <thead>\n",
       "    <tr style=\"text-align: right;\">\n",
       "      <th></th>\n",
       "      <th>Fare</th>\n",
       "    </tr>\n",
       "    <tr>\n",
       "      <th>Sex</th>\n",
       "      <th></th>\n",
       "    </tr>\n",
       "  </thead>\n",
       "  <tbody>\n",
       "    <tr>\n",
       "      <th>female</th>\n",
       "      <td>49.747699</td>\n",
       "    </tr>\n",
       "    <tr>\n",
       "      <th>male</th>\n",
       "      <td>27.527877</td>\n",
       "    </tr>\n",
       "  </tbody>\n",
       "</table>\n",
       "</div>"
      ],
      "text/plain": [
       "             Fare\n",
       "Sex              \n",
       "female  49.747699\n",
       "male    27.527877"
      ]
     },
     "execution_count": 28,
     "metadata": {},
     "output_type": "execute_result"
    }
   ],
   "source": [
    "df_test[['Fare', 'Sex']].groupby(['Sex']).mean()"
   ]
  },
  {
   "cell_type": "code",
   "execution_count": 29,
   "metadata": {},
   "outputs": [],
   "source": [
    "mean_pclass_1=df_test[df_test[\"Pclass\"]==1][\"Fare\"].mean()\n",
    "mean_pclass_2=df_test[df_test[\"Pclass\"]==2][\"Fare\"].mean()\n",
    "mean_pclass_3=df_test[df_test[\"Pclass\"]==3][\"Fare\"].mean()"
   ]
  },
  {
   "cell_type": "code",
   "execution_count": 30,
   "metadata": {},
   "outputs": [],
   "source": [
    "df_test[df_test[\"Pclass\"]==1]=df_test[df_test[\"Pclass\"]==1].fillna({'Fare':mean_pclass_1})\n",
    "df_test[df_test[\"Pclass\"]==2]=df_test[df_test[\"Pclass\"]==2].fillna({'Fare':mean_pclass_2})\n",
    "df_test[df_test[\"Pclass\"]==3]=df_test[df_test[\"Pclass\"]==3].fillna({'Fare':mean_pclass_3})"
   ]
  },
  {
   "cell_type": "code",
   "execution_count": 31,
   "metadata": {},
   "outputs": [],
   "source": [
    "mean_male=(df_train[df_train[\"Sex\"]==\"male\"][\"Age\"].mean()+df_test[df_test[\"Sex\"]==\"male\"][\"Age\"].mean())/2\n",
    "mean_female=(df_train[df_train[\"Sex\"]==\"female\"][\"Age\"].mean()+df_test[df_test[\"Sex\"]==\"female\"][\"Age\"].mean())/2"
   ]
  },
  {
   "cell_type": "code",
   "execution_count": 32,
   "metadata": {},
   "outputs": [],
   "source": [
    "df_train.loc[df_train[\"Sex\"]==\"male\",\"Age\"]=df_train.loc[df_train[\"Sex\"]==\"male\",\"Age\"].fillna(mean_male)\n",
    "df_train.loc[df_train[\"Sex\"]==\"female\",\"Age\"]=df_train.loc[df_train[\"Sex\"]==\"female\",\"Age\"].fillna(mean_female)\n",
    "df_test.loc[df_test[\"Sex\"]==\"male\",\"Age\"]=df_test.loc[df_test[\"Sex\"]==\"male\",\"Age\"].fillna(mean_male)\n",
    "df_test.loc[df_test[\"Sex\"]==\"female\",\"Age\"]=df_test.loc[df_test[\"Sex\"]==\"female\",\"Age\"].fillna(mean_female)"
   ]
  },
  {
   "cell_type": "code",
   "execution_count": 33,
   "metadata": {},
   "outputs": [],
   "source": [
    "def bins_columns(train, test, bins_list,labels_list, column ):\n",
    "    \"\"\" \n",
    "    Segment the values of the two lists, training and test, into intervals. Change the continuous \n",
    "    variables to a categorical variables.\n",
    "    ------\n",
    "    train : (PandasDataFrame) Dataframe passed in parameters who represent the train set \n",
    "\n",
    "    test : (PandasDataFrame Dataframe passed in parameters who represent the test set\n",
    "    \n",
    "    bins_list: (List) List of the differents interval used to pass the continuous variables into categorical\n",
    "    \n",
    "    labels_list: (List) Name of the categories created thanks to the bins list\n",
    "    \n",
    "    column: the name of the column who has to be modified\n",
    "\n",
    "    Returns\n",
    "    -------     \n",
    "    data_train_modif: the train Dataframe with the column modified into categorical variables\n",
    "    data_test_modif: the test Dataframe with the column modified into categorical variables\n",
    "    \"\"\"\n",
    "    data=[train.copy(),test.copy()]\n",
    "    for dataset in data:\n",
    "        if dataset[column].dtypes.name!='category':\n",
    "            dataset[column]=pd.cut(x=dataset[column], bins=bins_list, labels=labels_list)\n",
    "            dataset[column]=dataset[column].astype('category')\n",
    "    dic_cat=dict(enumerate(data[0][column].cat.categories ))\n",
    "    dic_cat={v: k for k, v in dic_cat.items()}\n",
    "    for i in range(len(data)):\n",
    "        data[i]=data[i].replace({column: dic_cat})\n",
    "    data_train_modif = data[0]\n",
    "    data_test_modif = data[1]\n",
    "    return data_train_modif, data_test_modif"
   ]
  },
  {
   "cell_type": "code",
   "execution_count": 34,
   "metadata": {},
   "outputs": [
    {
     "data": {
      "text/html": [
       "<div>\n",
       "<style scoped>\n",
       "    .dataframe tbody tr th:only-of-type {\n",
       "        vertical-align: middle;\n",
       "    }\n",
       "\n",
       "    .dataframe tbody tr th {\n",
       "        vertical-align: top;\n",
       "    }\n",
       "\n",
       "    .dataframe thead th {\n",
       "        text-align: right;\n",
       "    }\n",
       "</style>\n",
       "<table border=\"1\" class=\"dataframe\">\n",
       "  <thead>\n",
       "    <tr style=\"text-align: right;\">\n",
       "      <th></th>\n",
       "      <th>Age</th>\n",
       "      <th>Survived</th>\n",
       "    </tr>\n",
       "  </thead>\n",
       "  <tbody>\n",
       "    <tr>\n",
       "      <th>0</th>\n",
       "      <td>0.42</td>\n",
       "      <td>1.0</td>\n",
       "    </tr>\n",
       "    <tr>\n",
       "      <th>9</th>\n",
       "      <td>5.00</td>\n",
       "      <td>1.0</td>\n",
       "    </tr>\n",
       "    <tr>\n",
       "      <th>81</th>\n",
       "      <td>63.00</td>\n",
       "      <td>1.0</td>\n",
       "    </tr>\n",
       "    <tr>\n",
       "      <th>70</th>\n",
       "      <td>53.00</td>\n",
       "      <td>1.0</td>\n",
       "    </tr>\n",
       "    <tr>\n",
       "      <th>1</th>\n",
       "      <td>0.67</td>\n",
       "      <td>1.0</td>\n",
       "    </tr>\n",
       "    <tr>\n",
       "      <th>...</th>\n",
       "      <td>...</td>\n",
       "      <td>...</td>\n",
       "    </tr>\n",
       "    <tr>\n",
       "      <th>30</th>\n",
       "      <td>23.50</td>\n",
       "      <td>0.0</td>\n",
       "    </tr>\n",
       "    <tr>\n",
       "      <th>14</th>\n",
       "      <td>10.00</td>\n",
       "      <td>0.0</td>\n",
       "    </tr>\n",
       "    <tr>\n",
       "      <th>37</th>\n",
       "      <td>28.50</td>\n",
       "      <td>0.0</td>\n",
       "    </tr>\n",
       "    <tr>\n",
       "      <th>63</th>\n",
       "      <td>46.00</td>\n",
       "      <td>0.0</td>\n",
       "    </tr>\n",
       "    <tr>\n",
       "      <th>75</th>\n",
       "      <td>57.00</td>\n",
       "      <td>0.0</td>\n",
       "    </tr>\n",
       "  </tbody>\n",
       "</table>\n",
       "<p>90 rows × 2 columns</p>\n",
       "</div>"
      ],
      "text/plain": [
       "      Age  Survived\n",
       "0    0.42       1.0\n",
       "9    5.00       1.0\n",
       "81  63.00       1.0\n",
       "70  53.00       1.0\n",
       "1    0.67       1.0\n",
       "..    ...       ...\n",
       "30  23.50       0.0\n",
       "14  10.00       0.0\n",
       "37  28.50       0.0\n",
       "63  46.00       0.0\n",
       "75  57.00       0.0\n",
       "\n",
       "[90 rows x 2 columns]"
      ]
     },
     "execution_count": 34,
     "metadata": {},
     "output_type": "execute_result"
    }
   ],
   "source": [
    "df_train[[\"Age\", \"Survived\"]].groupby(['Age'], as_index=False).mean().sort_values(by='Survived', ascending=False)"
   ]
  },
  {
   "cell_type": "code",
   "execution_count": 35,
   "metadata": {},
   "outputs": [],
   "source": [
    "df_train['tmp_age'] = pd.qcut(df_train['Age'], 5)\n",
    "age_slice=df_train[['tmp_age', 'Survived']].groupby(['tmp_age'], as_index=False).mean()"
   ]
  },
  {
   "cell_type": "code",
   "execution_count": 36,
   "metadata": {},
   "outputs": [],
   "source": [
    "bins_list=[0,20,28,31,38,80]\n",
    "labels_list=['0-20', '20-28', '28-31', '31-38','38-80']\n",
    "df_train, df_test=bins_columns(df_train, df_test, bins_list,labels_list, \"Age\")"
   ]
  },
  {
   "cell_type": "code",
   "execution_count": 37,
   "metadata": {},
   "outputs": [],
   "source": [
    "df_train['tmp_Fare'] = pd.qcut(df_train['Fare'], 5)\n",
    "fare_slice=df_train[['tmp_Fare', 'Survived']].groupby(['tmp_Fare'], as_index=False).mean()"
   ]
  },
  {
   "cell_type": "code",
   "execution_count": 38,
   "metadata": {},
   "outputs": [
    {
     "data": {
      "text/html": [
       "<div>\n",
       "<style scoped>\n",
       "    .dataframe tbody tr th:only-of-type {\n",
       "        vertical-align: middle;\n",
       "    }\n",
       "\n",
       "    .dataframe tbody tr th {\n",
       "        vertical-align: top;\n",
       "    }\n",
       "\n",
       "    .dataframe thead th {\n",
       "        text-align: right;\n",
       "    }\n",
       "</style>\n",
       "<table border=\"1\" class=\"dataframe\">\n",
       "  <thead>\n",
       "    <tr style=\"text-align: right;\">\n",
       "      <th></th>\n",
       "      <th>tmp_Fare</th>\n",
       "      <th>Survived</th>\n",
       "    </tr>\n",
       "  </thead>\n",
       "  <tbody>\n",
       "    <tr>\n",
       "      <th>0</th>\n",
       "      <td>(-0.001, 7.854]</td>\n",
       "      <td>0.217877</td>\n",
       "    </tr>\n",
       "    <tr>\n",
       "      <th>1</th>\n",
       "      <td>(7.854, 10.5]</td>\n",
       "      <td>0.201087</td>\n",
       "    </tr>\n",
       "    <tr>\n",
       "      <th>2</th>\n",
       "      <td>(10.5, 21.679]</td>\n",
       "      <td>0.424419</td>\n",
       "    </tr>\n",
       "    <tr>\n",
       "      <th>3</th>\n",
       "      <td>(21.679, 39.688]</td>\n",
       "      <td>0.444444</td>\n",
       "    </tr>\n",
       "    <tr>\n",
       "      <th>4</th>\n",
       "      <td>(39.688, 512.329]</td>\n",
       "      <td>0.642045</td>\n",
       "    </tr>\n",
       "  </tbody>\n",
       "</table>\n",
       "</div>"
      ],
      "text/plain": [
       "            tmp_Fare  Survived\n",
       "0    (-0.001, 7.854]  0.217877\n",
       "1      (7.854, 10.5]  0.201087\n",
       "2     (10.5, 21.679]  0.424419\n",
       "3   (21.679, 39.688]  0.444444\n",
       "4  (39.688, 512.329]  0.642045"
      ]
     },
     "execution_count": 38,
     "metadata": {},
     "output_type": "execute_result"
    }
   ],
   "source": [
    "fare_slice"
   ]
  },
  {
   "cell_type": "code",
   "execution_count": 39,
   "metadata": {},
   "outputs": [],
   "source": [
    "bins_list=[-1,7.85,10.5,21.67,39.68,513]\n",
    "labels_list=['0-7.85', '7.85-10.5', '10.5-21.67', '21.67-39.68', '39.68-513']\n",
    "df_train, df_test=bins_columns(df_train, df_test, bins_list,labels_list, \"Fare\")"
   ]
  },
  {
   "cell_type": "code",
   "execution_count": 40,
   "metadata": {},
   "outputs": [],
   "source": [
    "combine=[df_train,df_test]"
   ]
  },
  {
   "cell_type": "code",
   "execution_count": 41,
   "metadata": {},
   "outputs": [
    {
     "data": {
      "text/html": [
       "<div>\n",
       "<style scoped>\n",
       "    .dataframe tbody tr th:only-of-type {\n",
       "        vertical-align: middle;\n",
       "    }\n",
       "\n",
       "    .dataframe tbody tr th {\n",
       "        vertical-align: top;\n",
       "    }\n",
       "\n",
       "    .dataframe thead th {\n",
       "        text-align: right;\n",
       "    }\n",
       "</style>\n",
       "<table border=\"1\" class=\"dataframe\">\n",
       "  <thead>\n",
       "    <tr style=\"text-align: right;\">\n",
       "      <th>Sex</th>\n",
       "      <th>female</th>\n",
       "      <th>male</th>\n",
       "    </tr>\n",
       "    <tr>\n",
       "      <th>Title</th>\n",
       "      <th></th>\n",
       "      <th></th>\n",
       "    </tr>\n",
       "  </thead>\n",
       "  <tbody>\n",
       "    <tr>\n",
       "      <th>Capt</th>\n",
       "      <td>0</td>\n",
       "      <td>1</td>\n",
       "    </tr>\n",
       "    <tr>\n",
       "      <th>Col</th>\n",
       "      <td>0</td>\n",
       "      <td>2</td>\n",
       "    </tr>\n",
       "    <tr>\n",
       "      <th>Countess</th>\n",
       "      <td>1</td>\n",
       "      <td>0</td>\n",
       "    </tr>\n",
       "    <tr>\n",
       "      <th>Don</th>\n",
       "      <td>0</td>\n",
       "      <td>1</td>\n",
       "    </tr>\n",
       "    <tr>\n",
       "      <th>Dr</th>\n",
       "      <td>1</td>\n",
       "      <td>6</td>\n",
       "    </tr>\n",
       "    <tr>\n",
       "      <th>Jonkheer</th>\n",
       "      <td>0</td>\n",
       "      <td>1</td>\n",
       "    </tr>\n",
       "    <tr>\n",
       "      <th>Lady</th>\n",
       "      <td>1</td>\n",
       "      <td>0</td>\n",
       "    </tr>\n",
       "    <tr>\n",
       "      <th>Major</th>\n",
       "      <td>0</td>\n",
       "      <td>2</td>\n",
       "    </tr>\n",
       "    <tr>\n",
       "      <th>Master</th>\n",
       "      <td>0</td>\n",
       "      <td>40</td>\n",
       "    </tr>\n",
       "    <tr>\n",
       "      <th>Miss</th>\n",
       "      <td>182</td>\n",
       "      <td>0</td>\n",
       "    </tr>\n",
       "    <tr>\n",
       "      <th>Mlle</th>\n",
       "      <td>2</td>\n",
       "      <td>0</td>\n",
       "    </tr>\n",
       "    <tr>\n",
       "      <th>Mme</th>\n",
       "      <td>1</td>\n",
       "      <td>0</td>\n",
       "    </tr>\n",
       "    <tr>\n",
       "      <th>Mr</th>\n",
       "      <td>0</td>\n",
       "      <td>517</td>\n",
       "    </tr>\n",
       "    <tr>\n",
       "      <th>Mrs</th>\n",
       "      <td>125</td>\n",
       "      <td>0</td>\n",
       "    </tr>\n",
       "    <tr>\n",
       "      <th>Ms</th>\n",
       "      <td>1</td>\n",
       "      <td>0</td>\n",
       "    </tr>\n",
       "    <tr>\n",
       "      <th>Rev</th>\n",
       "      <td>0</td>\n",
       "      <td>6</td>\n",
       "    </tr>\n",
       "    <tr>\n",
       "      <th>Sir</th>\n",
       "      <td>0</td>\n",
       "      <td>1</td>\n",
       "    </tr>\n",
       "  </tbody>\n",
       "</table>\n",
       "</div>"
      ],
      "text/plain": [
       "Sex       female  male\n",
       "Title                 \n",
       "Capt           0     1\n",
       "Col            0     2\n",
       "Countess       1     0\n",
       "Don            0     1\n",
       "Dr             1     6\n",
       "Jonkheer       0     1\n",
       "Lady           1     0\n",
       "Major          0     2\n",
       "Master         0    40\n",
       "Miss         182     0\n",
       "Mlle           2     0\n",
       "Mme            1     0\n",
       "Mr             0   517\n",
       "Mrs          125     0\n",
       "Ms             1     0\n",
       "Rev            0     6\n",
       "Sir            0     1"
      ]
     },
     "execution_count": 41,
     "metadata": {},
     "output_type": "execute_result"
    }
   ],
   "source": [
    "for dataFrame in combine:\n",
    "    dataFrame['Title'] = dataFrame.Name.str.extract(' ([A-Za-z]+)\\.', expand=False)\n",
    "\n",
    "pd.crosstab(df_train['Title'], df_train['Sex'])"
   ]
  },
  {
   "cell_type": "code",
   "execution_count": 42,
   "metadata": {},
   "outputs": [
    {
     "data": {
      "text/html": [
       "<div>\n",
       "<style scoped>\n",
       "    .dataframe tbody tr th:only-of-type {\n",
       "        vertical-align: middle;\n",
       "    }\n",
       "\n",
       "    .dataframe tbody tr th {\n",
       "        vertical-align: top;\n",
       "    }\n",
       "\n",
       "    .dataframe thead th {\n",
       "        text-align: right;\n",
       "    }\n",
       "</style>\n",
       "<table border=\"1\" class=\"dataframe\">\n",
       "  <thead>\n",
       "    <tr style=\"text-align: right;\">\n",
       "      <th></th>\n",
       "      <th>Title</th>\n",
       "      <th>Survived</th>\n",
       "    </tr>\n",
       "  </thead>\n",
       "  <tbody>\n",
       "    <tr>\n",
       "      <th>0</th>\n",
       "      <td>Master</td>\n",
       "      <td>0.575000</td>\n",
       "    </tr>\n",
       "    <tr>\n",
       "      <th>1</th>\n",
       "      <td>Miss</td>\n",
       "      <td>0.702703</td>\n",
       "    </tr>\n",
       "    <tr>\n",
       "      <th>2</th>\n",
       "      <td>Mr</td>\n",
       "      <td>0.156673</td>\n",
       "    </tr>\n",
       "    <tr>\n",
       "      <th>3</th>\n",
       "      <td>Mrs</td>\n",
       "      <td>0.793651</td>\n",
       "    </tr>\n",
       "    <tr>\n",
       "      <th>4</th>\n",
       "      <td>Other</td>\n",
       "      <td>0.347826</td>\n",
       "    </tr>\n",
       "  </tbody>\n",
       "</table>\n",
       "</div>"
      ],
      "text/plain": [
       "    Title  Survived\n",
       "0  Master  0.575000\n",
       "1    Miss  0.702703\n",
       "2      Mr  0.156673\n",
       "3     Mrs  0.793651\n",
       "4   Other  0.347826"
      ]
     },
     "execution_count": 42,
     "metadata": {},
     "output_type": "execute_result"
    }
   ],
   "source": [
    "for dataFrame in combine:\n",
    "    dataFrame['Title'] = dataFrame['Title'].replace(['Lady', 'Countess','Capt', 'Col','Don', 'Dr', 'Major', 'Rev', 'Sir', 'Jonkheer', 'Dona'], 'Other')\n",
    "\n",
    "    dataFrame['Title'] = dataFrame['Title'].replace('Mlle', 'Miss')\n",
    "    dataFrame['Title'] = dataFrame['Title'].replace('Ms', 'Miss')\n",
    "    dataFrame['Title'] = dataFrame['Title'].replace('Mme', 'Mrs')\n",
    "    \n",
    "df_train[['Title', 'Survived']].groupby(['Title'], as_index=False).mean()"
   ]
  },
  {
   "cell_type": "code",
   "execution_count": 43,
   "metadata": {},
   "outputs": [
    {
     "data": {
      "text/html": [
       "<div>\n",
       "<style scoped>\n",
       "    .dataframe tbody tr th:only-of-type {\n",
       "        vertical-align: middle;\n",
       "    }\n",
       "\n",
       "    .dataframe tbody tr th {\n",
       "        vertical-align: top;\n",
       "    }\n",
       "\n",
       "    .dataframe thead th {\n",
       "        text-align: right;\n",
       "    }\n",
       "</style>\n",
       "<table border=\"1\" class=\"dataframe\">\n",
       "  <thead>\n",
       "    <tr style=\"text-align: right;\">\n",
       "      <th></th>\n",
       "      <th>PassengerId</th>\n",
       "      <th>Survived</th>\n",
       "      <th>Pclass</th>\n",
       "      <th>Name</th>\n",
       "      <th>Sex</th>\n",
       "      <th>Age</th>\n",
       "      <th>SibSp</th>\n",
       "      <th>Parch</th>\n",
       "      <th>Ticket</th>\n",
       "      <th>Fare</th>\n",
       "      <th>Cabin</th>\n",
       "      <th>Embarked</th>\n",
       "      <th>tmp_age</th>\n",
       "      <th>tmp_Fare</th>\n",
       "      <th>Title</th>\n",
       "    </tr>\n",
       "  </thead>\n",
       "  <tbody>\n",
       "    <tr>\n",
       "      <th>0</th>\n",
       "      <td>1</td>\n",
       "      <td>0</td>\n",
       "      <td>3</td>\n",
       "      <td>Braund, Mr. Owen Harris</td>\n",
       "      <td>male</td>\n",
       "      <td>1</td>\n",
       "      <td>1</td>\n",
       "      <td>0</td>\n",
       "      <td>A/5 21171</td>\n",
       "      <td>0</td>\n",
       "      <td>NaN</td>\n",
       "      <td>S</td>\n",
       "      <td>(20.0, 28.0]</td>\n",
       "      <td>(-0.001, 7.854]</td>\n",
       "      <td>1</td>\n",
       "    </tr>\n",
       "    <tr>\n",
       "      <th>1</th>\n",
       "      <td>2</td>\n",
       "      <td>1</td>\n",
       "      <td>1</td>\n",
       "      <td>Cumings, Mrs. John Bradley (Florence Briggs Th...</td>\n",
       "      <td>female</td>\n",
       "      <td>3</td>\n",
       "      <td>1</td>\n",
       "      <td>0</td>\n",
       "      <td>PC 17599</td>\n",
       "      <td>4</td>\n",
       "      <td>C85</td>\n",
       "      <td>C</td>\n",
       "      <td>(30.5, 38.0]</td>\n",
       "      <td>(39.688, 512.329]</td>\n",
       "      <td>3</td>\n",
       "    </tr>\n",
       "    <tr>\n",
       "      <th>2</th>\n",
       "      <td>3</td>\n",
       "      <td>1</td>\n",
       "      <td>3</td>\n",
       "      <td>Heikkinen, Miss. Laina</td>\n",
       "      <td>female</td>\n",
       "      <td>1</td>\n",
       "      <td>0</td>\n",
       "      <td>0</td>\n",
       "      <td>STON/O2. 3101282</td>\n",
       "      <td>1</td>\n",
       "      <td>NaN</td>\n",
       "      <td>S</td>\n",
       "      <td>(20.0, 28.0]</td>\n",
       "      <td>(7.854, 10.5]</td>\n",
       "      <td>2</td>\n",
       "    </tr>\n",
       "    <tr>\n",
       "      <th>3</th>\n",
       "      <td>4</td>\n",
       "      <td>1</td>\n",
       "      <td>1</td>\n",
       "      <td>Futrelle, Mrs. Jacques Heath (Lily May Peel)</td>\n",
       "      <td>female</td>\n",
       "      <td>3</td>\n",
       "      <td>1</td>\n",
       "      <td>0</td>\n",
       "      <td>113803</td>\n",
       "      <td>4</td>\n",
       "      <td>C123</td>\n",
       "      <td>S</td>\n",
       "      <td>(30.5, 38.0]</td>\n",
       "      <td>(39.688, 512.329]</td>\n",
       "      <td>3</td>\n",
       "    </tr>\n",
       "    <tr>\n",
       "      <th>4</th>\n",
       "      <td>5</td>\n",
       "      <td>0</td>\n",
       "      <td>3</td>\n",
       "      <td>Allen, Mr. William Henry</td>\n",
       "      <td>male</td>\n",
       "      <td>3</td>\n",
       "      <td>0</td>\n",
       "      <td>0</td>\n",
       "      <td>373450</td>\n",
       "      <td>1</td>\n",
       "      <td>NaN</td>\n",
       "      <td>S</td>\n",
       "      <td>(30.5, 38.0]</td>\n",
       "      <td>(7.854, 10.5]</td>\n",
       "      <td>1</td>\n",
       "    </tr>\n",
       "  </tbody>\n",
       "</table>\n",
       "</div>"
      ],
      "text/plain": [
       "   PassengerId  Survived  Pclass  \\\n",
       "0            1         0       3   \n",
       "1            2         1       1   \n",
       "2            3         1       3   \n",
       "3            4         1       1   \n",
       "4            5         0       3   \n",
       "\n",
       "                                                Name     Sex  Age  SibSp  \\\n",
       "0                            Braund, Mr. Owen Harris    male    1      1   \n",
       "1  Cumings, Mrs. John Bradley (Florence Briggs Th...  female    3      1   \n",
       "2                             Heikkinen, Miss. Laina  female    1      0   \n",
       "3       Futrelle, Mrs. Jacques Heath (Lily May Peel)  female    3      1   \n",
       "4                           Allen, Mr. William Henry    male    3      0   \n",
       "\n",
       "   Parch            Ticket  Fare Cabin Embarked       tmp_age  \\\n",
       "0      0         A/5 21171     0   NaN        S  (20.0, 28.0]   \n",
       "1      0          PC 17599     4   C85        C  (30.5, 38.0]   \n",
       "2      0  STON/O2. 3101282     1   NaN        S  (20.0, 28.0]   \n",
       "3      0            113803     4  C123        S  (30.5, 38.0]   \n",
       "4      0            373450     1   NaN        S  (30.5, 38.0]   \n",
       "\n",
       "            tmp_Fare  Title  \n",
       "0    (-0.001, 7.854]      1  \n",
       "1  (39.688, 512.329]      3  \n",
       "2      (7.854, 10.5]      2  \n",
       "3  (39.688, 512.329]      3  \n",
       "4      (7.854, 10.5]      1  "
      ]
     },
     "execution_count": 43,
     "metadata": {},
     "output_type": "execute_result"
    }
   ],
   "source": [
    "title_mapping = {\"Mr\": 1, \"Miss\": 2, \"Mrs\": 3, \"Master\": 4, \"Other\": 5}\n",
    "for dataFrame in combine:\n",
    "    dataFrame['Title'] = dataFrame['Title'].map(title_mapping)\n",
    "    dataFrame['Title'] = dataFrame['Title'].fillna(0)\n",
    "\n",
    "df_train.head()"
   ]
  },
  {
   "cell_type": "code",
   "execution_count": 44,
   "metadata": {},
   "outputs": [],
   "source": [
    "df_train=df_train.dropna(subset=['Embarked'])\n",
    "df_test=df_test.dropna(subset=['Embarked'])"
   ]
  },
  {
   "cell_type": "code",
   "execution_count": 45,
   "metadata": {},
   "outputs": [],
   "source": [
    "dic_cat_sex={'male':0,'female':1}\n",
    "df_train=df_train.replace({\"Sex\": dic_cat_sex })\n",
    "df_test=df_test.replace({\"Sex\": dic_cat_sex })"
   ]
  },
  {
   "cell_type": "code",
   "execution_count": 46,
   "metadata": {},
   "outputs": [],
   "source": [
    "df_train.Embarked=df_train.Embarked.astype('category')\n",
    "dic_cat_embarked=dict(enumerate(df_train.Embarked.cat.categories ))\n",
    "dic_cat_embarked = {v: k for k, v in dic_cat_embarked.items()}\n",
    "df_train=df_train.replace({\"Embarked\": dic_cat_embarked })\n",
    "df_test=df_test.replace({\"Embarked\": dic_cat_embarked })"
   ]
  },
  {
   "cell_type": "code",
   "execution_count": 47,
   "metadata": {},
   "outputs": [],
   "source": [
    "df_train.Cabin=df_train.Cabin.fillna(\"Unknown\")\n",
    "df_test.Cabin=df_test.Cabin.fillna(\"Unknown\")"
   ]
  },
  {
   "cell_type": "code",
   "execution_count": 48,
   "metadata": {},
   "outputs": [],
   "source": [
    "df_train.Cabin=df_train.Cabin.apply(lambda x: str(x)[0] )\n",
    "df_test.Cabin=df_test.Cabin.apply(lambda x: str(x)[0] )\n",
    "df_train.Cabin=df_train.Cabin.astype('category')\n",
    "dic_cat_cabine=dict(enumerate(df_train.Cabin.cat.categories ))\n",
    "dic_cat_cabine = {v: k for k, v in dic_cat_cabine.items()}\n",
    "df_train=df_train.replace({\"Cabin\": dic_cat_cabine })\n",
    "df_test=df_test.replace({\"Cabin\": dic_cat_cabine })"
   ]
  },
  {
   "cell_type": "code",
   "execution_count": 49,
   "metadata": {},
   "outputs": [],
   "source": [
    "df_train=df_train.rename(columns={'Cabin': 'Deck'})\n",
    "df_test=df_test.rename(columns={'Cabin': 'Deck'})"
   ]
  },
  {
   "cell_type": "code",
   "execution_count": 50,
   "metadata": {},
   "outputs": [
    {
     "data": {
      "text/plain": [
       "PassengerId    0\n",
       "Pclass         0\n",
       "Name           0\n",
       "Sex            0\n",
       "Age            0\n",
       "SibSp          0\n",
       "Parch          0\n",
       "Ticket         0\n",
       "Fare           0\n",
       "Deck           0\n",
       "Embarked       0\n",
       "Title          0\n",
       "dtype: int64"
      ]
     },
     "execution_count": 50,
     "metadata": {},
     "output_type": "execute_result"
    }
   ],
   "source": [
    "df_test.isnull().sum()"
   ]
  },
  {
   "cell_type": "code",
   "execution_count": 51,
   "metadata": {},
   "outputs": [
    {
     "data": {
      "text/plain": [
       "PassengerId    0\n",
       "Survived       0\n",
       "Pclass         0\n",
       "Name           0\n",
       "Sex            0\n",
       "Age            0\n",
       "SibSp          0\n",
       "Parch          0\n",
       "Ticket         0\n",
       "Fare           0\n",
       "Deck           0\n",
       "Embarked       0\n",
       "tmp_age        0\n",
       "tmp_Fare       0\n",
       "Title          0\n",
       "dtype: int64"
      ]
     },
     "execution_count": 51,
     "metadata": {},
     "output_type": "execute_result"
    }
   ],
   "source": [
    "df_train.isnull().sum()"
   ]
  },
  {
   "cell_type": "code",
   "execution_count": 52,
   "metadata": {},
   "outputs": [],
   "source": [
    "df_train=df_train.drop(labels = [\"PassengerId\",\"Name\",\"Ticket\",\"tmp_Fare\",\"tmp_age\"], axis=1)\n",
    "df_test_passengerID=df_test.PassengerId\n",
    "df_test=df_test.drop(labels = [\"PassengerId\",\"Name\",\"Ticket\"], axis=1)"
   ]
  },
  {
   "cell_type": "code",
   "execution_count": 53,
   "metadata": {},
   "outputs": [
    {
     "data": {
      "text/html": [
       "<div>\n",
       "<style scoped>\n",
       "    .dataframe tbody tr th:only-of-type {\n",
       "        vertical-align: middle;\n",
       "    }\n",
       "\n",
       "    .dataframe tbody tr th {\n",
       "        vertical-align: top;\n",
       "    }\n",
       "\n",
       "    .dataframe thead th {\n",
       "        text-align: right;\n",
       "    }\n",
       "</style>\n",
       "<table border=\"1\" class=\"dataframe\">\n",
       "  <thead>\n",
       "    <tr style=\"text-align: right;\">\n",
       "      <th></th>\n",
       "      <th>1</th>\n",
       "      <th>2</th>\n",
       "      <th>3</th>\n",
       "    </tr>\n",
       "  </thead>\n",
       "  <tbody>\n",
       "    <tr>\n",
       "      <th>0</th>\n",
       "      <td>0</td>\n",
       "      <td>0</td>\n",
       "      <td>1</td>\n",
       "    </tr>\n",
       "    <tr>\n",
       "      <th>1</th>\n",
       "      <td>1</td>\n",
       "      <td>0</td>\n",
       "      <td>0</td>\n",
       "    </tr>\n",
       "    <tr>\n",
       "      <th>2</th>\n",
       "      <td>0</td>\n",
       "      <td>0</td>\n",
       "      <td>1</td>\n",
       "    </tr>\n",
       "    <tr>\n",
       "      <th>3</th>\n",
       "      <td>1</td>\n",
       "      <td>0</td>\n",
       "      <td>0</td>\n",
       "    </tr>\n",
       "    <tr>\n",
       "      <th>4</th>\n",
       "      <td>0</td>\n",
       "      <td>0</td>\n",
       "      <td>1</td>\n",
       "    </tr>\n",
       "    <tr>\n",
       "      <th>...</th>\n",
       "      <td>...</td>\n",
       "      <td>...</td>\n",
       "      <td>...</td>\n",
       "    </tr>\n",
       "    <tr>\n",
       "      <th>886</th>\n",
       "      <td>0</td>\n",
       "      <td>1</td>\n",
       "      <td>0</td>\n",
       "    </tr>\n",
       "    <tr>\n",
       "      <th>887</th>\n",
       "      <td>1</td>\n",
       "      <td>0</td>\n",
       "      <td>0</td>\n",
       "    </tr>\n",
       "    <tr>\n",
       "      <th>888</th>\n",
       "      <td>0</td>\n",
       "      <td>0</td>\n",
       "      <td>1</td>\n",
       "    </tr>\n",
       "    <tr>\n",
       "      <th>889</th>\n",
       "      <td>1</td>\n",
       "      <td>0</td>\n",
       "      <td>0</td>\n",
       "    </tr>\n",
       "    <tr>\n",
       "      <th>890</th>\n",
       "      <td>0</td>\n",
       "      <td>0</td>\n",
       "      <td>1</td>\n",
       "    </tr>\n",
       "  </tbody>\n",
       "</table>\n",
       "<p>889 rows × 3 columns</p>\n",
       "</div>"
      ],
      "text/plain": [
       "     1  2  3\n",
       "0    0  0  1\n",
       "1    1  0  0\n",
       "2    0  0  1\n",
       "3    1  0  0\n",
       "4    0  0  1\n",
       "..  .. .. ..\n",
       "886  0  1  0\n",
       "887  1  0  0\n",
       "888  0  0  1\n",
       "889  1  0  0\n",
       "890  0  0  1\n",
       "\n",
       "[889 rows x 3 columns]"
      ]
     },
     "execution_count": 53,
     "metadata": {},
     "output_type": "execute_result"
    }
   ],
   "source": [
    "pd.get_dummies(df_train[\"Pclass\"])"
   ]
  },
  {
   "cell_type": "code",
   "execution_count": 54,
   "metadata": {},
   "outputs": [],
   "source": [
    "X=df_train.loc[:, df_train.columns != 'Survived']\n",
    "y=df_train.Survived"
   ]
  },
  {
   "cell_type": "markdown",
   "metadata": {},
   "source": [
    "XGBoost"
   ]
  },
  {
   "cell_type": "code",
   "execution_count": 55,
   "metadata": {},
   "outputs": [],
   "source": [
    "from sklearn.metrics import accuracy_score, confusion_matrix, classification_report\n",
    "from sklearn.model_selection import StratifiedShuffleSplit, train_test_split\n",
    "from sklearn.neighbors import KNeighborsClassifier\n",
    "from sklearn.svm import SVC, LinearSVC\n",
    "from sklearn.naive_bayes import MultinomialNB, GaussianNB\n",
    "from sklearn.tree import DecisionTreeClassifier\n",
    "from sklearn.ensemble import RandomForestClassifier, GradientBoostingClassifier, VotingClassifier\n",
    "from sklearn.linear_model import LogisticRegression\n",
    "from xgboost import XGBClassifier\n",
    "from sklearn.metrics import confusion_matrix, roc_curve, accuracy_score as acc\n",
    "from sklearn import metrics\n",
    "import itertools\n",
    "from sklearn.model_selection import StratifiedKFold\n",
    "import xgboost\n",
    "from xgboost import XGBClassifier\n",
    "import operator"
   ]
  },
  {
   "cell_type": "code",
   "execution_count": 56,
   "metadata": {},
   "outputs": [],
   "source": [
    "#separating the our dataset in train, test and validation set\n",
    "X_train, X_val, y_train, y_val  = train_test_split(X, y, test_size=0.3, random_state=42, stratify=y)\n",
    "X_val, X_test, y_val, y_test    = train_test_split(X_val, y_val, test_size=0.5, random_state=42, stratify=y_val)"
   ]
  },
  {
   "cell_type": "code",
   "execution_count": 57,
   "metadata": {},
   "outputs": [],
   "source": [
    "# Convert our data into XGBoost format\n",
    "X_train_xgb = xgboost.DMatrix(X_train, label=y_train)\n",
    "X_val_xgb = xgboost.DMatrix(X_val, label=y_val)\n",
    "X_test_xgb = xgboost.DMatrix(X_test, label=y_test)"
   ]
  },
  {
   "cell_type": "code",
   "execution_count": 58,
   "metadata": {},
   "outputs": [],
   "source": [
    "\n",
    "# Parameter of XGBoost model\n",
    "xgb_params = {\n",
    "    'objective': 'binary:logistic',\n",
    "    'learning_rate': 0.03,\n",
    "    'max_depth': 8,\n",
    "    'min_child_weight': 1,\n",
    "    'eval_metric':'auc',\n",
    "    'nthread': -1\n",
    "}\n",
    "\n",
    "#watchlist is a list of xgb.DMatrix, each of them is tagged with name\n",
    "watchlist = [ (X_train_xgb,'train'), (X_val_xgb,'validation')]"
   ]
  },
  {
   "cell_type": "code",
   "execution_count": 59,
   "metadata": {
    "scrolled": true
   },
   "outputs": [
    {
     "name": "stdout",
     "output_type": "stream",
     "text": [
      "[0]\ttrain-auc:0.90276\tvalidation-auc:0.83477\n",
      "[10]\ttrain-auc:0.90938\tvalidation-auc:0.83907\n",
      "[20]\ttrain-auc:0.91368\tvalidation-auc:0.83991\n",
      "[30]\ttrain-auc:0.92419\tvalidation-auc:0.82293\n",
      "[40]\ttrain-auc:0.92696\tvalidation-auc:0.82018\n",
      "[50]\ttrain-auc:0.93111\tvalidation-auc:0.79232\n",
      "[60]\ttrain-auc:0.93329\tvalidation-auc:0.79185\n",
      "[70]\ttrain-auc:0.93443\tvalidation-auc:0.79161\n",
      "[80]\ttrain-auc:0.93758\tvalidation-auc:0.78910\n",
      "[90]\ttrain-auc:0.93911\tvalidation-auc:0.78874\n",
      "[100]\ttrain-auc:0.94015\tvalidation-auc:0.79304\n",
      "[110]\ttrain-auc:0.94089\tvalidation-auc:0.79412\n",
      "[120]\ttrain-auc:0.94461\tvalidation-auc:0.79340\n",
      "[130]\ttrain-auc:0.94780\tvalidation-auc:0.79448\n",
      "[140]\ttrain-auc:0.95032\tvalidation-auc:0.79256\n",
      "[150]\ttrain-auc:0.95208\tvalidation-auc:0.79053\n",
      "[160]\ttrain-auc:0.95381\tvalidation-auc:0.78431\n",
      "[170]\ttrain-auc:0.95524\tvalidation-auc:0.78097\n",
      "[180]\ttrain-auc:0.95649\tvalidation-auc:0.78168\n",
      "[190]\ttrain-auc:0.95739\tvalidation-auc:0.77953\n",
      "[200]\ttrain-auc:0.95804\tvalidation-auc:0.77905\n",
      "[210]\ttrain-auc:0.95855\tvalidation-auc:0.77762\n",
      "[220]\ttrain-auc:0.95904\tvalidation-auc:0.77834\n",
      "[230]\ttrain-auc:0.95972\tvalidation-auc:0.77690\n",
      "[240]\ttrain-auc:0.96060\tvalidation-auc:0.77666\n",
      "[250]\ttrain-auc:0.96112\tvalidation-auc:0.77834\n",
      "[260]\ttrain-auc:0.96188\tvalidation-auc:0.77738\n",
      "[270]\ttrain-auc:0.96216\tvalidation-auc:0.77714\n",
      "[280]\ttrain-auc:0.96292\tvalidation-auc:0.77451\n",
      "[290]\ttrain-auc:0.96326\tvalidation-auc:0.77475\n",
      "[300]\ttrain-auc:0.96373\tvalidation-auc:0.77403\n",
      "[310]\ttrain-auc:0.96439\tvalidation-auc:0.77140\n",
      "[320]\ttrain-auc:0.96474\tvalidation-auc:0.77045\n",
      "[330]\ttrain-auc:0.96522\tvalidation-auc:0.77164\n",
      "[340]\ttrain-auc:0.96565\tvalidation-auc:0.77355\n",
      "[350]\ttrain-auc:0.96606\tvalidation-auc:0.77499\n",
      "[360]\ttrain-auc:0.96638\tvalidation-auc:0.77499\n",
      "[370]\ttrain-auc:0.96674\tvalidation-auc:0.77355\n",
      "[380]\ttrain-auc:0.96689\tvalidation-auc:0.77331\n",
      "[390]\ttrain-auc:0.96715\tvalidation-auc:0.77260\n",
      "[400]\ttrain-auc:0.96754\tvalidation-auc:0.77021\n",
      "[410]\ttrain-auc:0.96791\tvalidation-auc:0.76973\n",
      "[420]\ttrain-auc:0.96807\tvalidation-auc:0.76997\n",
      "[430]\ttrain-auc:0.96884\tvalidation-auc:0.76925\n",
      "[440]\ttrain-auc:0.96928\tvalidation-auc:0.76877\n",
      "[450]\ttrain-auc:0.96960\tvalidation-auc:0.76925\n",
      "[460]\ttrain-auc:0.96985\tvalidation-auc:0.76901\n",
      "[470]\ttrain-auc:0.97007\tvalidation-auc:0.76901\n",
      "[480]\ttrain-auc:0.97047\tvalidation-auc:0.76542\n",
      "[490]\ttrain-auc:0.97058\tvalidation-auc:0.76614\n",
      "[500]\ttrain-auc:0.97077\tvalidation-auc:0.76423\n",
      "[510]\ttrain-auc:0.97083\tvalidation-auc:0.76447\n",
      "[520]\ttrain-auc:0.97093\tvalidation-auc:0.76447\n",
      "[530]\ttrain-auc:0.97102\tvalidation-auc:0.76399\n",
      "[540]\ttrain-auc:0.97121\tvalidation-auc:0.76208\n",
      "[550]\ttrain-auc:0.97138\tvalidation-auc:0.76184\n",
      "[560]\ttrain-auc:0.97146\tvalidation-auc:0.76040\n",
      "[570]\ttrain-auc:0.97169\tvalidation-auc:0.75825\n",
      "[580]\ttrain-auc:0.97186\tvalidation-auc:0.75801\n",
      "[590]\ttrain-auc:0.97188\tvalidation-auc:0.75705\n",
      "[600]\ttrain-auc:0.97217\tvalidation-auc:0.75610\n",
      "[610]\ttrain-auc:0.97228\tvalidation-auc:0.75658\n",
      "[620]\ttrain-auc:0.97231\tvalidation-auc:0.75658\n",
      "[630]\ttrain-auc:0.97252\tvalidation-auc:0.75394\n",
      "[640]\ttrain-auc:0.97262\tvalidation-auc:0.75371\n",
      "[650]\ttrain-auc:0.97273\tvalidation-auc:0.75299\n",
      "[660]\ttrain-auc:0.97286\tvalidation-auc:0.75394\n",
      "[670]\ttrain-auc:0.97289\tvalidation-auc:0.75394\n",
      "[680]\ttrain-auc:0.97306\tvalidation-auc:0.75490\n",
      "[690]\ttrain-auc:0.97322\tvalidation-auc:0.75490\n",
      "[700]\ttrain-auc:0.97330\tvalidation-auc:0.75466\n",
      "[710]\ttrain-auc:0.97336\tvalidation-auc:0.75394\n",
      "[720]\ttrain-auc:0.97349\tvalidation-auc:0.75299\n",
      "[730]\ttrain-auc:0.97374\tvalidation-auc:0.75299\n",
      "[740]\ttrain-auc:0.97390\tvalidation-auc:0.75251\n",
      "[750]\ttrain-auc:0.97391\tvalidation-auc:0.75251\n",
      "[760]\ttrain-auc:0.97390\tvalidation-auc:0.75275\n",
      "[770]\ttrain-auc:0.97418\tvalidation-auc:0.75155\n",
      "[780]\ttrain-auc:0.97425\tvalidation-auc:0.75155\n",
      "[790]\ttrain-auc:0.97436\tvalidation-auc:0.75108\n",
      "[800]\ttrain-auc:0.97452\tvalidation-auc:0.75108\n",
      "[810]\ttrain-auc:0.97460\tvalidation-auc:0.75084\n",
      "[820]\ttrain-auc:0.97465\tvalidation-auc:0.75012\n",
      "[830]\ttrain-auc:0.97473\tvalidation-auc:0.74725\n",
      "[840]\ttrain-auc:0.97482\tvalidation-auc:0.74749\n",
      "[850]\ttrain-auc:0.97487\tvalidation-auc:0.74701\n",
      "[860]\ttrain-auc:0.97493\tvalidation-auc:0.74725\n",
      "[870]\ttrain-auc:0.97494\tvalidation-auc:0.74701\n",
      "[880]\ttrain-auc:0.97497\tvalidation-auc:0.74749\n",
      "[890]\ttrain-auc:0.97506\tvalidation-auc:0.74725\n",
      "[900]\ttrain-auc:0.97507\tvalidation-auc:0.74701\n",
      "[910]\ttrain-auc:0.97512\tvalidation-auc:0.74701\n",
      "[920]\ttrain-auc:0.97519\tvalidation-auc:0.74677\n",
      "[930]\ttrain-auc:0.97528\tvalidation-auc:0.74725\n",
      "[940]\ttrain-auc:0.97531\tvalidation-auc:0.74725\n",
      "[950]\ttrain-auc:0.97542\tvalidation-auc:0.74773\n",
      "[960]\ttrain-auc:0.97542\tvalidation-auc:0.74773\n",
      "[970]\ttrain-auc:0.97545\tvalidation-auc:0.74773\n",
      "[980]\ttrain-auc:0.97553\tvalidation-auc:0.74749\n",
      "[990]\ttrain-auc:0.97564\tvalidation-auc:0.74701\n",
      "[1000]\ttrain-auc:0.97570\tvalidation-auc:0.74677\n",
      "[1003]\ttrain-auc:0.97571\tvalidation-auc:0.74677\n"
     ]
    }
   ],
   "source": [
    "#train the XGBoost\n",
    "model = xgboost.train(xgb_params, X_train_xgb , 2500, evals=watchlist, early_stopping_rounds=1000, verbose_eval =10)\n",
    "\n",
    "#predict the value on the test set \n",
    "y_test_xgb  = model.predict(X_test_xgb)\n"
   ]
  },
  {
   "cell_type": "code",
   "execution_count": 60,
   "metadata": {},
   "outputs": [
    {
     "data": {
      "text/plain": [
       "Text(0.5, 0, 'importance relative')"
      ]
     },
     "execution_count": 60,
     "metadata": {},
     "output_type": "execute_result"
    },
    {
     "data": {
      "text/plain": [
       "<Figure size 432x288 with 0 Axes>"
      ]
     },
     "metadata": {},
     "output_type": "display_data"
    },
    {
     "data": {
      "image/png": "[encoded data removed]",
      "text/plain": [
       "<Figure size 432x288 with 1 Axes>"
      ]
     },
     "metadata": {
      "needs_background": "light"
     },
     "output_type": "display_data"
    },
    {
     "data": {
      "image/png": "[encoded data removed]",
      "text/plain": [
       "<Figure size 1440x1080 with 1 Axes>"
      ]
     },
     "metadata": {
      "needs_background": "light"
     },
     "output_type": "display_data"
    }
   ],
   "source": [
    "# importance of the variables according to the XGBoost after training\n",
    "importance = model.get_fscore()\n",
    "importance = sorted(importance.items(), key=operator.itemgetter(1))\n",
    "\n",
    "df_fscore = pd.DataFrame(importance, columns=['feature', 'fscore'])\n",
    "df_fscore ['fscore'] = df_fscore['fscore'] / df_fscore['fscore'].sum()\n",
    "\n",
    "plt.figure()\n",
    "df_fscore .iloc[-20:].plot()\n",
    "df_fscore .iloc[-20:].plot(kind='barh', x='feature', y='fscore', legend=False, figsize=(20, 15))\n",
    "plt.title('XGBoost Feature Importance')\n",
    "plt.xlabel('importance relative')"
   ]
  },
  {
   "cell_type": "code",
   "execution_count": 61,
   "metadata": {},
   "outputs": [
    {
     "data": {
      "text/html": [
       "<div>\n",
       "<style scoped>\n",
       "    .dataframe tbody tr th:only-of-type {\n",
       "        vertical-align: middle;\n",
       "    }\n",
       "\n",
       "    .dataframe tbody tr th {\n",
       "        vertical-align: top;\n",
       "    }\n",
       "\n",
       "    .dataframe thead th {\n",
       "        text-align: right;\n",
       "    }\n",
       "</style>\n",
       "<table border=\"1\" class=\"dataframe\">\n",
       "  <thead>\n",
       "    <tr style=\"text-align: right;\">\n",
       "      <th></th>\n",
       "      <th>feature</th>\n",
       "      <th>fscore</th>\n",
       "    </tr>\n",
       "  </thead>\n",
       "  <tbody>\n",
       "    <tr>\n",
       "      <th>8</th>\n",
       "      <td>Age</td>\n",
       "      <td>0.255783</td>\n",
       "    </tr>\n",
       "    <tr>\n",
       "      <th>7</th>\n",
       "      <td>Fare</td>\n",
       "      <td>0.197149</td>\n",
       "    </tr>\n",
       "    <tr>\n",
       "      <th>6</th>\n",
       "      <td>Deck</td>\n",
       "      <td>0.122610</td>\n",
       "    </tr>\n",
       "    <tr>\n",
       "      <th>5</th>\n",
       "      <td>Embarked</td>\n",
       "      <td>0.096305</td>\n",
       "    </tr>\n",
       "    <tr>\n",
       "      <th>4</th>\n",
       "      <td>SibSp</td>\n",
       "      <td>0.094458</td>\n",
       "    </tr>\n",
       "    <tr>\n",
       "      <th>3</th>\n",
       "      <td>Pclass</td>\n",
       "      <td>0.082129</td>\n",
       "    </tr>\n",
       "    <tr>\n",
       "      <th>2</th>\n",
       "      <td>Title</td>\n",
       "      <td>0.075582</td>\n",
       "    </tr>\n",
       "    <tr>\n",
       "      <th>1</th>\n",
       "      <td>Parch</td>\n",
       "      <td>0.054859</td>\n",
       "    </tr>\n",
       "    <tr>\n",
       "      <th>0</th>\n",
       "      <td>Sex</td>\n",
       "      <td>0.021124</td>\n",
       "    </tr>\n",
       "  </tbody>\n",
       "</table>\n",
       "</div>"
      ],
      "text/plain": [
       "    feature    fscore\n",
       "8       Age  0.255783\n",
       "7      Fare  0.197149\n",
       "6      Deck  0.122610\n",
       "5  Embarked  0.096305\n",
       "4     SibSp  0.094458\n",
       "3    Pclass  0.082129\n",
       "2     Title  0.075582\n",
       "1     Parch  0.054859\n",
       "0       Sex  0.021124"
      ]
     },
     "execution_count": 61,
     "metadata": {},
     "output_type": "execute_result"
    }
   ],
   "source": [
    "df_fscore.sort_values('fscore', ascending=False)"
   ]
  },
  {
   "cell_type": "code",
   "execution_count": 62,
   "metadata": {},
   "outputs": [],
   "source": [
    "def roc_curve_and_confusion_matrix(y_true_label, y_pred, algo_name_condition):\n",
    "    \"\"\" \n",
    "    Calculate the threshold and the classification report (recall, F1 score, precision) and display the ROC \n",
    "    curve and the confusion matrix. \n",
    "    ------\n",
    "    y_true_label : (List) The true label of the predicted variable \n",
    "\n",
    "    y_pred : (List) Prédiction generated by the algorithm\n",
    "    \n",
    "    title: (String) Name of the algorithm and the condition in which it was execute \n",
    "\n",
    "    Returns\n",
    "    -------     \n",
    "    threshold: Represent the best cutoff finds in the list of thresholds generated by the function roc_curve\n",
    "    \n",
    "    classif_report: text report showing the main classification metrics, precision, recall, f1-score\n",
    "    \"\"\"\n",
    "    fpr, tpr, threshold = metrics.roc_curve(y_true_label, y_pred)\n",
    "    roc_auc = metrics.auc(fpr, tpr)\n",
    "\n",
    "    fig, ax = plt.subplots(1, 2, figsize=(10, 5)) \n",
    "    ax[0].set_title(\"Receiver Operating Characteristic \"+algo_name_condition)\n",
    "    ax[0].plot(fpr, tpr, 'b', label = 'AUC = %0.2f' % roc_auc, antialiased=True)\n",
    "    ax[0].plot([0, 1], [0, 1],'r--')\n",
    "    ax[0].axis(xmin=0,xmax=1, ymin=0,ymax=1)\n",
    "    ax[0].legend(loc = 'lower right', prop={'size': 14})\n",
    "    ax[0].set_ylabel('True Positive Rate')\n",
    "    ax[0].set_xlabel('False Positive Rate')\n",
    "    \n",
    "    \n",
    "    \n",
    "    i = np.arange(len(tpr)) \n",
    "    roc = pd.DataFrame({'tf' : pd.Series(tpr-(1-fpr), index=i), 'threshold' : pd.Series(threshold, index=i)})\n",
    "    roc_t = roc.loc[(roc.tf).abs().argsort()[:1]]\n",
    "    threshold=list(roc_t['threshold'])\n",
    "    \n",
    "    \n",
    "    y_pred_thresh = np.where(y_pred >= threshold, 1, 0).astype(int)\n",
    "    conf_matrix = confusion_matrix(y_true_label, y_pred_thresh)\n",
    "    labels=['survived','has not survived']\n",
    "    \n",
    "    img =ax[1].imshow(conf_matrix, interpolation='nearest', cmap=plt.cm.Blues)\n",
    "\n",
    "    ax[1].set_title(\"Confusion matrix \"+algo_name_condition)\n",
    "    fig.colorbar(img)\n",
    "    tick_marks = np.arange(len(labels))\n",
    "    ax[1].set_xticks(tick_marks)\n",
    "    ax[1].set_xticklabels( labels, rotation=45, size=15)\n",
    "    ax[1].set_yticks(tick_marks)\n",
    "    ax[1].set_yticklabels( labels, size=15)\n",
    "\n",
    "    thresh = conf_matrix.max() / 2.\n",
    "    for i, j in itertools.product(range(conf_matrix.shape[0]), range(conf_matrix.shape[1])):\n",
    "        ax[1].text(j, i, conf_matrix[i, j],\n",
    "                 horizontalalignment=\"center\",\n",
    "                 color=\"white\" if conf_matrix[i, j] > thresh else \"black\")\n",
    "\n",
    "    fig.tight_layout()\n",
    "    ax[1].set_ylabel('True label')\n",
    "    ax[1].set_xlabel('Predicted label')\n",
    "    \n",
    "    plt.show\n",
    "    classif_report=classification_report(y_true_label, y_pred_thresh)\n",
    "    return threshold, classif_report"
   ]
  },
  {
   "cell_type": "code",
   "execution_count": 63,
   "metadata": {},
   "outputs": [
    {
     "name": "stdout",
     "output_type": "stream",
     "text": [
      "              precision    recall  f1-score   support\n",
      "\n",
      "           0       0.85      0.77      0.81        83\n",
      "           1       0.68      0.78      0.73        51\n",
      "\n",
      "    accuracy                           0.78       134\n",
      "   macro avg       0.77      0.78      0.77       134\n",
      "weighted avg       0.79      0.78      0.78       134\n",
      "\n"
     ]
    },
    {
     "data": {
      "image/png": "[encoded data removed]",
      "text/plain": [
       "<Figure size 720x360 with 3 Axes>"
      ]
     },
     "metadata": {
      "needs_background": "light"
     },
     "output_type": "display_data"
    }
   ],
   "source": [
    "_, classif_report=roc_curve_and_confusion_matrix(y_test, y_test_xgb, \"XGBoost\")\n",
    "print(classif_report)"
   ]
  },
  {
   "cell_type": "markdown",
   "metadata": {},
   "source": [
    "Precision means the percentage of your results which are relevant.\n",
    "Precision is the number of correctly identified members of a class divided by all the times the model predicted that class. In our case we have a precision of 67% to predict the class: \"has not survived\",40/59.\n",
    "\n",
    "On the other hand, recall refers to the percentage of total relevant results correctly classified by your algorithm.\n",
    "Recall is the number of members of a class that the classifier identified correctly divided by the total number of members in that class. The recall tells us that when we predict: \"has not survived\",78% of the passengers did not survive.\n",
    "\n",
    "The F1 score is used to determine how good an algorithm is at identifying members of a class, or whether it is biased and identifies everyone as a member of a large class.\n"
   ]
  },
  {
   "cell_type": "markdown",
   "metadata": {},
   "source": [
    "### Coss Validation\n",
    "Our XGBoost seems to perform well on the test set. But we can't guarantee that this model will perform on new data. Indeed, we used only a part of the data set to train, and only a part to test. The estimation could be biased.\n",
    "\n",
    "Cross-validation allows us to estimate the reliability of a model based on a sampling technique using the entire dataset."
   ]
  },
  {
   "cell_type": "code",
   "execution_count": 64,
   "metadata": {
    "scrolled": true
   },
   "outputs": [
    {
     "name": "stdout",
     "output_type": "stream",
     "text": [
      "Fold 1/5\n",
      "[0]\ttrain-auc:0.89755\tvalid-auc:0.91044\n",
      "[10]\ttrain-auc:0.90342\tvalid-auc:0.91410\n",
      "[20]\ttrain-auc:0.90538\tvalid-auc:0.91477\n",
      "[30]\ttrain-auc:0.91612\tvalid-auc:0.90490\n",
      "[40]\ttrain-auc:0.92006\tvalid-auc:0.91342\n",
      "[50]\ttrain-auc:0.92779\tvalid-auc:0.90787\n",
      "[60]\ttrain-auc:0.92992\tvalid-auc:0.90517\n",
      "[70]\ttrain-auc:0.93305\tvalid-auc:0.90138\n",
      "[75]\ttrain-auc:0.93392\tvalid-auc:0.89773\n",
      "Fold 2/5\n",
      "[0]\ttrain-auc:0.89603\tvalid-auc:0.89218\n",
      "[10]\ttrain-auc:0.90587\tvalid-auc:0.88447\n",
      "[20]\ttrain-auc:0.90771\tvalid-auc:0.88582\n",
      "[30]\ttrain-auc:0.91375\tvalid-auc:0.88650\n",
      "[40]\ttrain-auc:0.92649\tvalid-auc:0.88650\n",
      "[50]\ttrain-auc:0.93400\tvalid-auc:0.88988\n",
      "[60]\ttrain-auc:0.93772\tvalid-auc:0.88636\n",
      "Fold 3/5\n",
      "[0]\ttrain-auc:0.90213\tvalid-auc:0.89500\n",
      "[10]\ttrain-auc:0.90262\tvalid-auc:0.91241\n",
      "[20]\ttrain-auc:0.91267\tvalid-auc:0.90591\n",
      "[30]\ttrain-auc:0.91696\tvalid-auc:0.90260\n",
      "[40]\ttrain-auc:0.91952\tvalid-auc:0.90260\n",
      "[50]\ttrain-auc:0.92641\tvalid-auc:0.89887\n",
      "[60]\ttrain-auc:0.93097\tvalid-auc:0.90356\n",
      "[70]\ttrain-auc:0.93358\tvalid-auc:0.90356\n",
      "Fold 4/5\n",
      "[0]\ttrain-auc:0.90054\tvalid-auc:0.83186\n",
      "[10]\ttrain-auc:0.91271\tvalid-auc:0.85369\n",
      "[20]\ttrain-auc:0.91622\tvalid-auc:0.87704\n",
      "[30]\ttrain-auc:0.91988\tvalid-auc:0.87635\n",
      "[40]\ttrain-auc:0.92201\tvalid-auc:0.87883\n",
      "[50]\ttrain-auc:0.92381\tvalid-auc:0.86750\n",
      "[60]\ttrain-auc:0.93389\tvalid-auc:0.86999\n",
      "[70]\ttrain-auc:0.93788\tvalid-auc:0.87096\n",
      "[80]\ttrain-auc:0.93947\tvalid-auc:0.86709\n",
      "[90]\ttrain-auc:0.94265\tvalid-auc:0.86433\n",
      "[94]\ttrain-auc:0.94361\tvalid-auc:0.86433\n",
      "Fold 5/5\n",
      "[0]\ttrain-auc:0.91720\tvalid-auc:0.81346\n",
      "[10]\ttrain-auc:0.91657\tvalid-auc:0.80866\n",
      "[20]\ttrain-auc:0.91713\tvalid-auc:0.81044\n",
      "[30]\ttrain-auc:0.93879\tvalid-auc:0.80496\n",
      "[40]\ttrain-auc:0.94471\tvalid-auc:0.80208\n",
      "[50]\ttrain-auc:0.94813\tvalid-auc:0.80592\n",
      "[59]\ttrain-auc:0.94993\tvalid-auc:0.81031\n",
      "AUC on cross-validation : 0.8368769194424757\n"
     ]
    }
   ],
   "source": [
    "# Number of fold\n",
    "kfold = 5\n",
    "skf = StratifiedKFold(n_splits=kfold)\n",
    "\n",
    "xgb_params = {\n",
    "    'objective': 'binary:logistic', # classification problem\n",
    "    'learning_rate': 0.03,\n",
    "    'max_depth': 8,\n",
    "    'min_child_weight': 1,\n",
    "    'eval_metric':'auc', # Using the metrics AUC to compute the performance of the model \n",
    "    'nthread': -1\n",
    "}\n",
    "\n",
    "\n",
    "X_cross = np.array(X_train)\n",
    "y_cross = np.array(y_train)\n",
    "test = np.array(X_test)\n",
    "id_test = X_test.index.values\n",
    "\n",
    "register_data = pd.DataFrame()\n",
    "register_data['id'] = id_test\n",
    "register_data['target'] = np.zeros_like(id_test)\n",
    "\n",
    "# Create the split for the Kfold\n",
    "for i, (train_index, test_index) in enumerate(skf.split(X_cross, y_cross)):\n",
    "    print('Fold '+str(i+1)+'/'+str(kfold))\n",
    "    # Split the data\n",
    "    X_train_cross_val, X_val_cross_val = X_cross[train_index], X_cross[test_index]\n",
    "    y_train_cross_val, y_val_cross_val = y_cross[train_index], y_cross[test_index]\n",
    "    \n",
    "    \n",
    "    X_cross_val_train_xgb = xgboost.DMatrix(X_train_cross_val, y_train_cross_val)\n",
    "    X_cross_val_valid_xgb = xgboost.DMatrix(X_val_cross_val, y_val_cross_val)\n",
    "    X_test_xgb = xgboost.DMatrix(X_test.values)\n",
    "    watchlist = [(X_cross_val_train_xgb, 'train'), (X_cross_val_valid_xgb, 'valid')]\n",
    "\n",
    "    # Train the model. In max 2500 rounds\n",
    "    # early_stopping_rounds: it works by monitoring the performance of the model that is being trained\n",
    "        # on a separate test dataset and stopping the training procedure once the performance on the test dataset \n",
    "        # has not improved after a fixed number of training iterations.\n",
    "    mdl = xgboost.train(xgb_params, X_cross_val_train_xgb , 2500, evals=watchlist, early_stopping_rounds=60, verbose_eval =10)\n",
    "    # Predict on our test data\n",
    "    p_test = mdl.predict(X_test_xgb)\n",
    "    register_data['target'] += p_test/kfold\n",
    "    \n",
    "fpr, tpr, threshold = metrics.roc_curve(y_test, register_data.target)\n",
    "roc_auc = metrics.auc(fpr, tpr)\n",
    "before_opti = roc_auc\n",
    "print('AUC on cross-validation :',roc_auc)"
   ]
  },
  {
   "cell_type": "code",
   "execution_count": 65,
   "metadata": {
    "scrolled": false
   },
   "outputs": [
    {
     "name": "stdout",
     "output_type": "stream",
     "text": [
      "              precision    recall  f1-score   support\n",
      "\n",
      "           0       0.89      0.82      0.86        83\n",
      "           1       0.74      0.84      0.79        51\n",
      "\n",
      "    accuracy                           0.83       134\n",
      "   macro avg       0.82      0.83      0.82       134\n",
      "weighted avg       0.84      0.83      0.83       134\n",
      "\n"
     ]
    },
    {
     "data": {
      "image/png": "[encoded data removed]",
      "text/plain": [
       "<Figure size 720x360 with 3 Axes>"
      ]
     },
     "metadata": {
      "needs_background": "light"
     },
     "output_type": "display_data"
    }
   ],
   "source": [
    "_, classif_report=roc_curve_and_confusion_matrix(y_test, np.array(register_data.target), \"XGBoost K-fold\")\n",
    "print(classif_report)"
   ]
  },
  {
   "cell_type": "markdown",
   "metadata": {},
   "source": [
    "### Bayesian Optimization"
   ]
  },
  {
   "cell_type": "code",
   "execution_count": 66,
   "metadata": {
    "scrolled": true
   },
   "outputs": [
    {
     "name": "stdout",
     "output_type": "stream",
     "text": [
      "|   iter    |  target   | colsam... |   gamma   | learni... | max_depth | min_ch... | n_esti... | subsample |\n",
      "-------------------------------------------------------------------------------------------------------------\n",
      "| \u001b[0m 1       \u001b[0m | \u001b[0m 0.8488  \u001b[0m | \u001b[0m 0.5026  \u001b[0m | \u001b[0m 1.014   \u001b[0m | \u001b[0m 0.01334 \u001b[0m | \u001b[0m 5.283   \u001b[0m | \u001b[0m 2.47    \u001b[0m | \u001b[0m 41.16   \u001b[0m | \u001b[0m 0.8647  \u001b[0m |\n",
      "| \u001b[0m 2       \u001b[0m | \u001b[0m 0.8287  \u001b[0m | \u001b[0m 0.5919  \u001b[0m | \u001b[0m 3.253   \u001b[0m | \u001b[0m 0.04362 \u001b[0m | \u001b[0m 2.231   \u001b[0m | \u001b[0m 13.14   \u001b[0m | \u001b[0m 96.12   \u001b[0m | \u001b[0m 0.8841  \u001b[0m |\n",
      "| \u001b[0m 3       \u001b[0m | \u001b[0m 0.8488  \u001b[0m | \u001b[0m 0.6367  \u001b[0m | \u001b[0m 0.8781  \u001b[0m | \u001b[0m 0.0843  \u001b[0m | \u001b[0m 4.87    \u001b[0m | \u001b[0m 2.081   \u001b[0m | \u001b[0m 38.24   \u001b[0m | \u001b[0m 0.9703  \u001b[0m |\n",
      "| \u001b[0m 4       \u001b[0m | \u001b[0m 0.822   \u001b[0m | \u001b[0m 0.4851  \u001b[0m | \u001b[0m 0.9166  \u001b[0m | \u001b[0m 0.0532  \u001b[0m | \u001b[0m 2.752   \u001b[0m | \u001b[0m 16.23   \u001b[0m | \u001b[0m 42.83   \u001b[0m | \u001b[0m 0.9041  \u001b[0m |\n",
      "| \u001b[0m 5       \u001b[0m | \u001b[0m 0.8311  \u001b[0m | \u001b[0m 0.7429  \u001b[0m | \u001b[0m 0.08756 \u001b[0m | \u001b[0m 0.0116  \u001b[0m | \u001b[0m 6.545   \u001b[0m | \u001b[0m 5.516   \u001b[0m | \u001b[0m 54.19   \u001b[0m | \u001b[0m 0.8937  \u001b[0m |\n",
      "| \u001b[0m 6       \u001b[0m | \u001b[0m 0.8218  \u001b[0m | \u001b[0m 0.7216  \u001b[0m | \u001b[0m 4.083   \u001b[0m | \u001b[0m 0.06441 \u001b[0m | \u001b[0m 8.742   \u001b[0m | \u001b[0m 12.76   \u001b[0m | \u001b[0m 73.75   \u001b[0m | \u001b[0m 0.9412  \u001b[0m |\n",
      "| \u001b[0m 7       \u001b[0m | \u001b[0m 0.8353  \u001b[0m | \u001b[0m 0.6011  \u001b[0m | \u001b[0m 1.051   \u001b[0m | \u001b[0m 0.03014 \u001b[0m | \u001b[0m 8.558   \u001b[0m | \u001b[0m 5.656   \u001b[0m | \u001b[0m 69.7    \u001b[0m | \u001b[0m 0.9625  \u001b[0m |\n",
      "| \u001b[0m 8       \u001b[0m | \u001b[0m 0.8142  \u001b[0m | \u001b[0m 0.6963  \u001b[0m | \u001b[0m 4.494   \u001b[0m | \u001b[0m 0.07856 \u001b[0m | \u001b[0m 6.795   \u001b[0m | \u001b[0m 19.37   \u001b[0m | \u001b[0m 21.08   \u001b[0m | \u001b[0m 0.8771  \u001b[0m |\n",
      "| \u001b[0m 9       \u001b[0m | \u001b[0m 0.8252  \u001b[0m | \u001b[0m 0.7837  \u001b[0m | \u001b[0m 3.747   \u001b[0m | \u001b[0m 0.08208 \u001b[0m | \u001b[0m 8.946   \u001b[0m | \u001b[0m 15.3    \u001b[0m | \u001b[0m 12.16   \u001b[0m | \u001b[0m 0.8514  \u001b[0m |\n",
      "| \u001b[0m 10      \u001b[0m | \u001b[0m 0.8292  \u001b[0m | \u001b[0m 0.6276  \u001b[0m | \u001b[0m 0.3829  \u001b[0m | \u001b[0m 0.07698 \u001b[0m | \u001b[0m 2.135   \u001b[0m | \u001b[0m 8.033   \u001b[0m | \u001b[0m 55.97   \u001b[0m | \u001b[0m 0.8209  \u001b[0m |\n",
      "| \u001b[0m 11      \u001b[0m | \u001b[0m 0.8137  \u001b[0m | \u001b[0m 0.5336  \u001b[0m | \u001b[0m 1.679   \u001b[0m | \u001b[0m 0.03776 \u001b[0m | \u001b[0m 6.476   \u001b[0m | \u001b[0m 16.38   \u001b[0m | \u001b[0m 25.2    \u001b[0m | \u001b[0m 0.801   \u001b[0m |\n",
      "| \u001b[0m 12      \u001b[0m | \u001b[0m 0.8111  \u001b[0m | \u001b[0m 0.4444  \u001b[0m | \u001b[0m 3.704   \u001b[0m | \u001b[0m 0.05265 \u001b[0m | \u001b[0m 5.217   \u001b[0m | \u001b[0m 17.55   \u001b[0m | \u001b[0m 53.68   \u001b[0m | \u001b[0m 0.937   \u001b[0m |\n",
      "| \u001b[0m 13      \u001b[0m | \u001b[0m 0.824   \u001b[0m | \u001b[0m 0.5437  \u001b[0m | \u001b[0m 3.146   \u001b[0m | \u001b[0m 0.09236 \u001b[0m | \u001b[0m 6.777   \u001b[0m | \u001b[0m 11.78   \u001b[0m | \u001b[0m 73.89   \u001b[0m | \u001b[0m 0.9434  \u001b[0m |\n",
      "| \u001b[0m 14      \u001b[0m | \u001b[0m 0.8255  \u001b[0m | \u001b[0m 0.5049  \u001b[0m | \u001b[0m 1.772   \u001b[0m | \u001b[0m 0.05994 \u001b[0m | \u001b[0m 7.105   \u001b[0m | \u001b[0m 15.92   \u001b[0m | \u001b[0m 43.53   \u001b[0m | \u001b[0m 0.9683  \u001b[0m |\n",
      "| \u001b[0m 15      \u001b[0m | \u001b[0m 0.8193  \u001b[0m | \u001b[0m 0.4496  \u001b[0m | \u001b[0m 1.047   \u001b[0m | \u001b[0m 0.01856 \u001b[0m | \u001b[0m 8.215   \u001b[0m | \u001b[0m 9.712   \u001b[0m | \u001b[0m 49.75   \u001b[0m | \u001b[0m 0.8413  \u001b[0m |\n",
      "| \u001b[0m 16      \u001b[0m | \u001b[0m 0.8214  \u001b[0m | \u001b[0m 0.5821  \u001b[0m | \u001b[0m 1.531   \u001b[0m | \u001b[0m 0.07977 \u001b[0m | \u001b[0m 9.913   \u001b[0m | \u001b[0m 18.8    \u001b[0m | \u001b[0m 36.43   \u001b[0m | \u001b[0m 0.9541  \u001b[0m |\n",
      "| \u001b[0m 17      \u001b[0m | \u001b[0m 0.8268  \u001b[0m | \u001b[0m 0.6141  \u001b[0m | \u001b[0m 2.98    \u001b[0m | \u001b[0m 0.07689 \u001b[0m | \u001b[0m 4.415   \u001b[0m | \u001b[0m 7.395   \u001b[0m | \u001b[0m 82.02   \u001b[0m | \u001b[0m 0.8131  \u001b[0m |\n",
      "| \u001b[0m 18      \u001b[0m | \u001b[0m 0.8219  \u001b[0m | \u001b[0m 0.7572  \u001b[0m | \u001b[0m 4.861   \u001b[0m | \u001b[0m 0.07844 \u001b[0m | \u001b[0m 6.443   \u001b[0m | \u001b[0m 15.21   \u001b[0m | \u001b[0m 34.1    \u001b[0m | \u001b[0m 0.9159  \u001b[0m |\n",
      "| \u001b[0m 19      \u001b[0m | \u001b[0m 0.8222  \u001b[0m | \u001b[0m 0.5113  \u001b[0m | \u001b[0m 3.457   \u001b[0m | \u001b[0m 0.08793 \u001b[0m | \u001b[0m 8.916   \u001b[0m | \u001b[0m 16.91   \u001b[0m | \u001b[0m 72.64   \u001b[0m | \u001b[0m 0.9418  \u001b[0m |\n",
      "| \u001b[0m 20      \u001b[0m | \u001b[0m 0.8162  \u001b[0m | \u001b[0m 0.5211  \u001b[0m | \u001b[0m 2.214   \u001b[0m | \u001b[0m 0.05626 \u001b[0m | \u001b[0m 7.826   \u001b[0m | \u001b[0m 17.41   \u001b[0m | \u001b[0m 11.61   \u001b[0m | \u001b[0m 0.844   \u001b[0m |\n",
      "| \u001b[0m 21      \u001b[0m | \u001b[0m 0.8333  \u001b[0m | \u001b[0m 0.3     \u001b[0m | \u001b[0m 5.0     \u001b[0m | \u001b[0m 0.1     \u001b[0m | \u001b[0m 2.0     \u001b[0m | \u001b[0m 1.0     \u001b[0m | \u001b[0m 40.4    \u001b[0m | \u001b[0m 1.0     \u001b[0m |\n",
      "| \u001b[95m 22      \u001b[0m | \u001b[95m 0.8498  \u001b[0m | \u001b[95m 0.8     \u001b[0m | \u001b[95m 0.0     \u001b[0m | \u001b[95m 0.01    \u001b[0m | \u001b[95m 9.724   \u001b[0m | \u001b[95m 1.0     \u001b[0m | \u001b[95m 39.23   \u001b[0m | \u001b[95m 0.8     \u001b[0m |\n",
      "| \u001b[0m 23      \u001b[0m | \u001b[0m 0.8438  \u001b[0m | \u001b[0m 0.5113  \u001b[0m | \u001b[0m 0.2463  \u001b[0m | \u001b[0m 0.02894 \u001b[0m | \u001b[0m 8.766   \u001b[0m | \u001b[0m 4.886   \u001b[0m | \u001b[0m 39.29   \u001b[0m | \u001b[0m 0.9801  \u001b[0m |\n",
      "| \u001b[95m 24      \u001b[0m | \u001b[95m 0.8528  \u001b[0m | \u001b[95m 0.8     \u001b[0m | \u001b[95m 0.0     \u001b[0m | \u001b[95m 0.01    \u001b[0m | \u001b[95m 10.0    \u001b[0m | \u001b[95m 1.0     \u001b[0m | \u001b[95m 31.31   \u001b[0m | \u001b[95m 0.8     \u001b[0m |\n",
      "| \u001b[0m 25      \u001b[0m | \u001b[0m 0.8528  \u001b[0m | \u001b[0m 0.8     \u001b[0m | \u001b[0m 0.0     \u001b[0m | \u001b[0m 0.01    \u001b[0m | \u001b[0m 10.0    \u001b[0m | \u001b[0m 1.0     \u001b[0m | \u001b[0m 22.31   \u001b[0m | \u001b[0m 0.8     \u001b[0m |\n",
      "| \u001b[95m 26      \u001b[0m | \u001b[95m 0.8533  \u001b[0m | \u001b[95m 0.8     \u001b[0m | \u001b[95m 5.0     \u001b[0m | \u001b[95m 0.1     \u001b[0m | \u001b[95m 10.0    \u001b[0m | \u001b[95m 1.0     \u001b[0m | \u001b[95m 13.22   \u001b[0m | \u001b[95m 0.8     \u001b[0m |\n",
      "| \u001b[0m 27      \u001b[0m | \u001b[0m 0.8403  \u001b[0m | \u001b[0m 0.8     \u001b[0m | \u001b[0m 5.0     \u001b[0m | \u001b[0m 0.03335 \u001b[0m | \u001b[0m 2.0     \u001b[0m | \u001b[0m 1.0     \u001b[0m | \u001b[0m 17.36   \u001b[0m | \u001b[0m 1.0     \u001b[0m |\n",
      "| \u001b[95m 28      \u001b[0m | \u001b[95m 0.8552  \u001b[0m | \u001b[95m 0.3     \u001b[0m | \u001b[95m 0.0     \u001b[0m | \u001b[95m 0.1     \u001b[0m | \u001b[95m 10.0    \u001b[0m | \u001b[95m 1.0     \u001b[0m | \u001b[95m 10.0    \u001b[0m | \u001b[95m 0.8     \u001b[0m |\n",
      "| \u001b[0m 29      \u001b[0m | \u001b[0m 0.8429  \u001b[0m | \u001b[0m 0.8     \u001b[0m | \u001b[0m 0.0     \u001b[0m | \u001b[0m 0.01    \u001b[0m | \u001b[0m 10.0    \u001b[0m | \u001b[0m 1.0     \u001b[0m | \u001b[0m 15.3    \u001b[0m | \u001b[0m 1.0     \u001b[0m |\n",
      "| \u001b[0m 30      \u001b[0m | \u001b[0m 0.8384  \u001b[0m | \u001b[0m 0.3     \u001b[0m | \u001b[0m 5.0     \u001b[0m | \u001b[0m 0.1     \u001b[0m | \u001b[0m 10.0    \u001b[0m | \u001b[0m 1.0     \u001b[0m | \u001b[0m 25.79   \u001b[0m | \u001b[0m 0.8     \u001b[0m |\n",
      "| \u001b[0m 31      \u001b[0m | \u001b[0m 0.8384  \u001b[0m | \u001b[0m 0.3     \u001b[0m | \u001b[0m 5.0     \u001b[0m | \u001b[0m 0.1     \u001b[0m | \u001b[0m 5.318   \u001b[0m | \u001b[0m 1.0     \u001b[0m | \u001b[0m 10.0    \u001b[0m | \u001b[0m 0.8     \u001b[0m |\n",
      "| \u001b[0m 32      \u001b[0m | \u001b[0m 0.8487  \u001b[0m | \u001b[0m 0.8     \u001b[0m | \u001b[0m 0.0     \u001b[0m | \u001b[0m 0.01    \u001b[0m | \u001b[0m 3.296   \u001b[0m | \u001b[0m 1.0     \u001b[0m | \u001b[0m 26.82   \u001b[0m | \u001b[0m 0.8     \u001b[0m |\n",
      "| \u001b[0m 33      \u001b[0m | \u001b[0m 0.8261  \u001b[0m | \u001b[0m 0.3     \u001b[0m | \u001b[0m 3.865   \u001b[0m | \u001b[0m 0.1     \u001b[0m | \u001b[0m 10.0    \u001b[0m | \u001b[0m 5.471   \u001b[0m | \u001b[0m 10.0    \u001b[0m | \u001b[0m 0.8     \u001b[0m |\n",
      "| \u001b[0m 34      \u001b[0m | \u001b[0m 0.8512  \u001b[0m | \u001b[0m 0.8     \u001b[0m | \u001b[0m 0.0     \u001b[0m | \u001b[0m 0.1     \u001b[0m | \u001b[0m 9.095   \u001b[0m | \u001b[0m 4.602   \u001b[0m | \u001b[0m 26.7    \u001b[0m | \u001b[0m 1.0     \u001b[0m |\n",
      "| \u001b[0m 35      \u001b[0m | \u001b[0m 0.8495  \u001b[0m | \u001b[0m 0.8     \u001b[0m | \u001b[0m 0.0     \u001b[0m | \u001b[0m 0.01    \u001b[0m | \u001b[0m 5.42    \u001b[0m | \u001b[0m 3.786   \u001b[0m | \u001b[0m 31.63   \u001b[0m | \u001b[0m 0.8     \u001b[0m |\n",
      "| \u001b[0m 36      \u001b[0m | \u001b[0m 0.8535  \u001b[0m | \u001b[0m 0.3     \u001b[0m | \u001b[0m 0.0     \u001b[0m | \u001b[0m 0.1     \u001b[0m | \u001b[0m 10.0    \u001b[0m | \u001b[0m 1.0     \u001b[0m | \u001b[0m 100.0   \u001b[0m | \u001b[0m 1.0     \u001b[0m |\n",
      "| \u001b[0m 37      \u001b[0m | \u001b[0m 0.8516  \u001b[0m | \u001b[0m 0.3     \u001b[0m | \u001b[0m 0.0     \u001b[0m | \u001b[0m 0.03112 \u001b[0m | \u001b[0m 10.0    \u001b[0m | \u001b[0m 1.0     \u001b[0m | \u001b[0m 93.16   \u001b[0m | \u001b[0m 1.0     \u001b[0m |\n",
      "| \u001b[0m 38      \u001b[0m | \u001b[0m 0.8505  \u001b[0m | \u001b[0m 0.6804  \u001b[0m | \u001b[0m 1.381   \u001b[0m | \u001b[0m 0.06768 \u001b[0m | \u001b[0m 3.201   \u001b[0m | \u001b[0m 1.111   \u001b[0m | \u001b[0m 97.83   \u001b[0m | \u001b[0m 0.8866  \u001b[0m |\n",
      "| \u001b[0m 39      \u001b[0m | \u001b[0m 0.8545  \u001b[0m | \u001b[0m 0.8     \u001b[0m | \u001b[0m 5.0     \u001b[0m | \u001b[0m 0.1     \u001b[0m | \u001b[0m 10.0    \u001b[0m | \u001b[0m 1.0     \u001b[0m | \u001b[0m 97.26   \u001b[0m | \u001b[0m 0.8     \u001b[0m |\n",
      "| \u001b[0m 40      \u001b[0m | \u001b[0m 0.8285  \u001b[0m | \u001b[0m 0.7221  \u001b[0m | \u001b[0m 1.038   \u001b[0m | \u001b[0m 0.07367 \u001b[0m | \u001b[0m 9.835   \u001b[0m | \u001b[0m 6.675   \u001b[0m | \u001b[0m 97.1    \u001b[0m | \u001b[0m 0.8514  \u001b[0m |\n",
      "| \u001b[0m 41      \u001b[0m | \u001b[0m 0.8356  \u001b[0m | \u001b[0m 0.3     \u001b[0m | \u001b[0m 5.0     \u001b[0m | \u001b[0m 0.1     \u001b[0m | \u001b[0m 4.675   \u001b[0m | \u001b[0m 1.0     \u001b[0m | \u001b[0m 91.83   \u001b[0m | \u001b[0m 1.0     \u001b[0m |\n",
      "| \u001b[0m 42      \u001b[0m | \u001b[0m 0.8488  \u001b[0m | \u001b[0m 0.8     \u001b[0m | \u001b[0m 5.0     \u001b[0m | \u001b[0m 0.1     \u001b[0m | \u001b[0m 10.0    \u001b[0m | \u001b[0m 1.0     \u001b[0m | \u001b[0m 61.93   \u001b[0m | \u001b[0m 1.0     \u001b[0m |\n",
      "| \u001b[0m 43      \u001b[0m | \u001b[0m 0.8322  \u001b[0m | \u001b[0m 0.3     \u001b[0m | \u001b[0m 5.0     \u001b[0m | \u001b[0m 0.01    \u001b[0m | \u001b[0m 2.0     \u001b[0m | \u001b[0m 1.0     \u001b[0m | \u001b[0m 64.14   \u001b[0m | \u001b[0m 1.0     \u001b[0m |\n",
      "| \u001b[0m 44      \u001b[0m | \u001b[0m 0.8538  \u001b[0m | \u001b[0m 0.5787  \u001b[0m | \u001b[0m 4.93    \u001b[0m | \u001b[0m 0.05355 \u001b[0m | \u001b[0m 6.567   \u001b[0m | \u001b[0m 1.604   \u001b[0m | \u001b[0m 99.69   \u001b[0m | \u001b[0m 0.9529  \u001b[0m |\n"
     ]
    },
    {
     "name": "stdout",
     "output_type": "stream",
     "text": [
      "| \u001b[0m 45      \u001b[0m | \u001b[0m 0.8549  \u001b[0m | \u001b[0m 0.3     \u001b[0m | \u001b[0m 0.0     \u001b[0m | \u001b[0m 0.1     \u001b[0m | \u001b[0m 10.0    \u001b[0m | \u001b[0m 1.0     \u001b[0m | \u001b[0m 62.05   \u001b[0m | \u001b[0m 0.8     \u001b[0m |\n",
      "| \u001b[95m 46      \u001b[0m | \u001b[95m 0.8668  \u001b[0m | \u001b[95m 0.8     \u001b[0m | \u001b[95m 0.0     \u001b[0m | \u001b[95m 0.1     \u001b[0m | \u001b[95m 10.0    \u001b[0m | \u001b[95m 1.0     \u001b[0m | \u001b[95m 57.47   \u001b[0m | \u001b[95m 0.8     \u001b[0m |\n",
      "| \u001b[0m 47      \u001b[0m | \u001b[0m 0.841   \u001b[0m | \u001b[0m 0.3     \u001b[0m | \u001b[0m 4.033   \u001b[0m | \u001b[0m 0.1     \u001b[0m | \u001b[0m 10.0    \u001b[0m | \u001b[0m 1.0     \u001b[0m | \u001b[0m 54.96   \u001b[0m | \u001b[0m 0.8     \u001b[0m |\n",
      "| \u001b[0m 48      \u001b[0m | \u001b[0m 0.8606  \u001b[0m | \u001b[0m 0.8     \u001b[0m | \u001b[0m 0.0     \u001b[0m | \u001b[0m 0.1     \u001b[0m | \u001b[0m 7.145   \u001b[0m | \u001b[0m 1.0     \u001b[0m | \u001b[0m 58.55   \u001b[0m | \u001b[0m 1.0     \u001b[0m |\n",
      "| \u001b[0m 49      \u001b[0m | \u001b[0m 0.862   \u001b[0m | \u001b[0m 0.8     \u001b[0m | \u001b[0m 0.0     \u001b[0m | \u001b[0m 0.1     \u001b[0m | \u001b[0m 10.0    \u001b[0m | \u001b[0m 3.369   \u001b[0m | \u001b[0m 59.0    \u001b[0m | \u001b[0m 1.0     \u001b[0m |\n",
      "| \u001b[0m 50      \u001b[0m | \u001b[0m 0.8053  \u001b[0m | \u001b[0m 0.8     \u001b[0m | \u001b[0m 0.0     \u001b[0m | \u001b[0m 0.01    \u001b[0m | \u001b[0m 2.0     \u001b[0m | \u001b[0m 20.0    \u001b[0m | \u001b[0m 85.6    \u001b[0m | \u001b[0m 1.0     \u001b[0m |\n",
      "| \u001b[0m 51      \u001b[0m | \u001b[0m 0.8509  \u001b[0m | \u001b[0m 0.3     \u001b[0m | \u001b[0m 0.0     \u001b[0m | \u001b[0m 0.1     \u001b[0m | \u001b[0m 10.0    \u001b[0m | \u001b[0m 1.0     \u001b[0m | \u001b[0m 58.73   \u001b[0m | \u001b[0m 1.0     \u001b[0m |\n",
      "| \u001b[95m 52      \u001b[0m | \u001b[95m 0.867   \u001b[0m | \u001b[95m 0.8     \u001b[0m | \u001b[95m 0.0     \u001b[0m | \u001b[95m 0.1     \u001b[0m | \u001b[95m 10.0    \u001b[0m | \u001b[95m 1.0     \u001b[0m | \u001b[95m 54.67   \u001b[0m | \u001b[95m 0.8     \u001b[0m |\n",
      "| \u001b[0m 53      \u001b[0m | \u001b[0m 0.8429  \u001b[0m | \u001b[0m 0.8     \u001b[0m | \u001b[0m 0.0     \u001b[0m | \u001b[0m 0.1     \u001b[0m | \u001b[0m 8.148   \u001b[0m | \u001b[0m 4.96    \u001b[0m | \u001b[0m 62.64   \u001b[0m | \u001b[0m 0.8     \u001b[0m |\n",
      "| \u001b[0m 54      \u001b[0m | \u001b[0m 0.8516  \u001b[0m | \u001b[0m 0.4211  \u001b[0m | \u001b[0m 0.4973  \u001b[0m | \u001b[0m 0.08694 \u001b[0m | \u001b[0m 9.988   \u001b[0m | \u001b[0m 3.656   \u001b[0m | \u001b[0m 55.58   \u001b[0m | \u001b[0m 0.8089  \u001b[0m |\n",
      "| \u001b[0m 55      \u001b[0m | \u001b[0m 0.8403  \u001b[0m | \u001b[0m 0.8     \u001b[0m | \u001b[0m 0.0     \u001b[0m | \u001b[0m 0.1     \u001b[0m | \u001b[0m 5.565   \u001b[0m | \u001b[0m 4.044   \u001b[0m | \u001b[0m 21.97   \u001b[0m | \u001b[0m 0.8     \u001b[0m |\n",
      "| \u001b[0m 56      \u001b[0m | \u001b[0m 0.8529  \u001b[0m | \u001b[0m 0.8     \u001b[0m | \u001b[0m 4.393   \u001b[0m | \u001b[0m 0.01    \u001b[0m | \u001b[0m 9.662   \u001b[0m | \u001b[0m 1.0     \u001b[0m | \u001b[0m 34.91   \u001b[0m | \u001b[0m 1.0     \u001b[0m |\n",
      "| \u001b[0m 57      \u001b[0m | \u001b[0m 0.8637  \u001b[0m | \u001b[0m 0.7154  \u001b[0m | \u001b[0m 0.6749  \u001b[0m | \u001b[0m 0.09186 \u001b[0m | \u001b[0m 8.775   \u001b[0m | \u001b[0m 1.046   \u001b[0m | \u001b[0m 56.52   \u001b[0m | \u001b[0m 0.8141  \u001b[0m |\n",
      "| \u001b[0m 58      \u001b[0m | \u001b[0m 0.8327  \u001b[0m | \u001b[0m 0.3     \u001b[0m | \u001b[0m 3.121   \u001b[0m | \u001b[0m 0.1     \u001b[0m | \u001b[0m 10.0    \u001b[0m | \u001b[0m 5.444   \u001b[0m | \u001b[0m 32.27   \u001b[0m | \u001b[0m 0.8     \u001b[0m |\n",
      "| \u001b[0m 59      \u001b[0m | \u001b[0m 0.8568  \u001b[0m | \u001b[0m 0.8     \u001b[0m | \u001b[0m 5.0     \u001b[0m | \u001b[0m 0.01    \u001b[0m | \u001b[0m 10.0    \u001b[0m | \u001b[0m 1.0     \u001b[0m | \u001b[0m 40.67   \u001b[0m | \u001b[0m 0.8     \u001b[0m |\n",
      "| \u001b[0m 60      \u001b[0m | \u001b[0m 0.8547  \u001b[0m | \u001b[0m 0.8     \u001b[0m | \u001b[0m 2.399   \u001b[0m | \u001b[0m 0.1     \u001b[0m | \u001b[0m 10.0    \u001b[0m | \u001b[0m 1.0     \u001b[0m | \u001b[0m 45.32   \u001b[0m | \u001b[0m 1.0     \u001b[0m |\n",
      "| \u001b[0m 61      \u001b[0m | \u001b[0m 0.8384  \u001b[0m | \u001b[0m 0.8     \u001b[0m | \u001b[0m 5.0     \u001b[0m | \u001b[0m 0.1     \u001b[0m | \u001b[0m 10.0    \u001b[0m | \u001b[0m 4.564   \u001b[0m | \u001b[0m 43.48   \u001b[0m | \u001b[0m 0.8     \u001b[0m |\n",
      "| \u001b[0m 62      \u001b[0m | \u001b[0m 0.8611  \u001b[0m | \u001b[0m 0.8     \u001b[0m | \u001b[0m 0.0     \u001b[0m | \u001b[0m 0.1     \u001b[0m | \u001b[0m 6.439   \u001b[0m | \u001b[0m 1.0     \u001b[0m | \u001b[0m 47.84   \u001b[0m | \u001b[0m 0.8     \u001b[0m |\n",
      "| \u001b[0m 63      \u001b[0m | \u001b[0m 0.8512  \u001b[0m | \u001b[0m 0.6354  \u001b[0m | \u001b[0m 3.083   \u001b[0m | \u001b[0m 0.0206  \u001b[0m | \u001b[0m 4.194   \u001b[0m | \u001b[0m 1.097   \u001b[0m | \u001b[0m 49.21   \u001b[0m | \u001b[0m 0.8462  \u001b[0m |\n",
      "| \u001b[0m 64      \u001b[0m | \u001b[0m 0.8512  \u001b[0m | \u001b[0m 0.8     \u001b[0m | \u001b[0m 0.0     \u001b[0m | \u001b[0m 0.01    \u001b[0m | \u001b[0m 10.0    \u001b[0m | \u001b[0m 1.0     \u001b[0m | \u001b[0m 49.66   \u001b[0m | \u001b[0m 0.8     \u001b[0m |\n",
      "| \u001b[0m 65      \u001b[0m | \u001b[0m 0.8575  \u001b[0m | \u001b[0m 0.8     \u001b[0m | \u001b[0m 0.0     \u001b[0m | \u001b[0m 0.1     \u001b[0m | \u001b[0m 2.0     \u001b[0m | \u001b[0m 1.0     \u001b[0m | \u001b[0m 46.46   \u001b[0m | \u001b[0m 1.0     \u001b[0m |\n",
      "| \u001b[0m 66      \u001b[0m | \u001b[0m 0.832   \u001b[0m | \u001b[0m 0.5684  \u001b[0m | \u001b[0m 4.341   \u001b[0m | \u001b[0m 0.08071 \u001b[0m | \u001b[0m 2.105   \u001b[0m | \u001b[0m 1.547   \u001b[0m | \u001b[0m 30.94   \u001b[0m | \u001b[0m 0.9791  \u001b[0m |\n",
      "| \u001b[0m 67      \u001b[0m | \u001b[0m 0.8526  \u001b[0m | \u001b[0m 0.8     \u001b[0m | \u001b[0m 0.0     \u001b[0m | \u001b[0m 0.01    \u001b[0m | \u001b[0m 10.0    \u001b[0m | \u001b[0m 1.0     \u001b[0m | \u001b[0m 66.42   \u001b[0m | \u001b[0m 0.8     \u001b[0m |\n",
      "| \u001b[0m 68      \u001b[0m | \u001b[0m 0.8391  \u001b[0m | \u001b[0m 0.4257  \u001b[0m | \u001b[0m 0.4027  \u001b[0m | \u001b[0m 0.01598 \u001b[0m | \u001b[0m 2.382   \u001b[0m | \u001b[0m 1.054   \u001b[0m | \u001b[0m 56.53   \u001b[0m | \u001b[0m 0.9009  \u001b[0m |\n",
      "| \u001b[0m 69      \u001b[0m | \u001b[0m 0.8547  \u001b[0m | \u001b[0m 0.8     \u001b[0m | \u001b[0m 2.004   \u001b[0m | \u001b[0m 0.01    \u001b[0m | \u001b[0m 5.658   \u001b[0m | \u001b[0m 1.0     \u001b[0m | \u001b[0m 45.33   \u001b[0m | \u001b[0m 0.8     \u001b[0m |\n",
      "| \u001b[0m 70      \u001b[0m | \u001b[0m 0.8115  \u001b[0m | \u001b[0m 0.4201  \u001b[0m | \u001b[0m 1.575   \u001b[0m | \u001b[0m 0.09719 \u001b[0m | \u001b[0m 8.608   \u001b[0m | \u001b[0m 19.89   \u001b[0m | \u001b[0m 99.32   \u001b[0m | \u001b[0m 0.8227  \u001b[0m |\n",
      "=============================================================================================================\n"
     ]
    }
   ],
   "source": [
    "from bayes_opt import BayesianOptimization\n",
    "\n",
    "def xgb_evaluate(n_estimators,learning_rate, max_depth, subsample, min_child_weight, gamma, colsample_bytree):    \n",
    "    \"\"\" Compute the best parameters of XGboost\n",
    "    Params\n",
    "    ------\n",
    "    learning_rate : Step size shrinkage used in update to prevents overfitting. \n",
    "    max_depth : Maximum depth of a tree. Increasing this value will make the model more complex and more likely to overfit. \n",
    "    subsample: Subsample ratio of the training instances (prevent overfitting). Setting it to 0.5 means that XGBoost would randomly sample half of the training data prior to growing trees. \n",
    "    min_child_weight : Minimum sum of instance weight (hessian) needed in a child. \n",
    "    gamma : Minimum loss reduction required to make a further partition on a leaf node of the tree. \n",
    "    colsample_bytree : Subsample ratio of columns when constructing each tree.\n",
    "\n",
    "    Returns\n",
    "    -------     \n",
    "    list type, with optimal cutoff value\n",
    "\n",
    "    \"\"\"\n",
    "    params = {\n",
    "        'num_parallel_tree':int(n_estimators),\n",
    "        'eta': learning_rate,\n",
    "        'max_depth': int(max_depth),\n",
    "        'subsample': max(min(subsample, 1), 0),\n",
    "        'objective': 'binary:logistic',\n",
    "        'base_score': np.mean(y_train), # base prediction = mean(target)\n",
    "        'eval_metric':'auc',\n",
    "        'min_child_weight': int(min_child_weight),\n",
    "        'gamma': max(gamma, 0),\n",
    "        'colsample_bytree': colsample_bytree,\n",
    "        'nthread': -1\n",
    "    }\n",
    "    \n",
    "\n",
    "    X_cross = np.array(X_train)\n",
    "    Y_cross = np.array(y_train)\n",
    "    test = np.array(X_test)\n",
    "    id_test = X_test.index.values\n",
    "\n",
    "    register_data = pd.DataFrame()\n",
    "    register_data['id'] = id_test\n",
    "    register_data['target'] = np.zeros_like(id_test)\n",
    "\n",
    "    for i, (train_index, test_index) in enumerate(skf.split(X_cross, y_cross)):\n",
    "        \n",
    "        X_train_cross_val, X_val_cross_val = X_cross[train_index], X_cross[test_index]\n",
    "        y_train_cross_val, y_val_cross_val = y_cross[train_index], y_cross[test_index]\n",
    "\n",
    "\n",
    "        X_cross_val_train_xgb = xgboost.DMatrix(X_train_cross_val, y_train_cross_val)\n",
    "        X_cross_val_valid_xgb = xgboost.DMatrix(X_val_cross_val, y_val_cross_val)\n",
    "        X_test_xgb = xgboost.DMatrix(X_test.values)\n",
    "        watchlist = [(X_cross_val_train_xgb, 'train'), (X_cross_val_valid_xgb, 'valid')]\n",
    "        \n",
    "        mdl = xgboost.train(params, X_cross_val_train_xgb , 25000, evals=watchlist, early_stopping_rounds=50, verbose_eval = False)\n",
    "\n",
    "        # Predict on our test data\n",
    "        p_test = mdl.predict(X_test_xgb)\n",
    "        register_data['target'] += p_test/kfold\n",
    "\n",
    "    fpr, tpr, threshold = metrics.roc_curve(y_test, register_data.target)\n",
    "    cv_result = metrics.auc(fpr, tpr)\n",
    "    \n",
    "    return cv_result\n",
    "\n",
    "\n",
    "# Parameters for optimization\n",
    "params = {\n",
    "  'n_estimators': (10,100),\n",
    "  'learning_rate':(0.01, 0.1),\n",
    "  'min_child_weight':(1, 20),\n",
    "  'gamma':(0, 5),\n",
    "  'subsample':(0.8, 1),\n",
    "  'colsample_bytree':(0.3, 0.8),\n",
    "  'max_depth': (2, 10)\n",
    "}\n",
    "\n",
    "# create model BayesianOptimisation\n",
    "xgb_bo = BayesianOptimization(xgb_evaluate,params)\n",
    "\n",
    "# Compute optimals parameters\n",
    "xgb_bo.maximize(init_points=20, n_iter=50)"
   ]
  },
  {
   "cell_type": "code",
   "execution_count": 67,
   "metadata": {},
   "outputs": [],
   "source": [
    "p = xgb_bo.max[\"params\"]"
   ]
  },
  {
   "cell_type": "code",
   "execution_count": 68,
   "metadata": {},
   "outputs": [],
   "source": [
    "# Best parameters\n",
    "xgb_params = {\n",
    "    'num_parallel_tree': int(p['n_estimators']),\n",
    "    'eta': p['learning_rate'],\n",
    "    'max_depth': int(p['max_depth']),\n",
    "    'subsample': p['subsample'],\n",
    "    'objective': 'binary:logistic',\n",
    "    'base_score': np.mean(y_train),\n",
    "    'eval_metric':'auc',\n",
    "    'min_child_weight': int(p['min_child_weight']),\n",
    "    'gamma': p['gamma'],\n",
    "    'colsample_bytree': p['colsample_bytree']\n",
    "}"
   ]
  },
  {
   "cell_type": "code",
   "execution_count": 69,
   "metadata": {},
   "outputs": [
    {
     "name": "stdout",
     "output_type": "stream",
     "text": [
      "Fold 1/5\n",
      "[0]\ttrain-auc:0.90576\tvalid-auc:0.89935\n",
      "[50]\ttrain-auc:0.95268\tvalid-auc:0.90030\n",
      "[63]\ttrain-auc:0.95813\tvalid-auc:0.90003\n",
      "Fold 2/5\n",
      "[0]\ttrain-auc:0.91052\tvalid-auc:0.88163\n",
      "[50]\ttrain-auc:0.95237\tvalid-auc:0.89299\n",
      "[100]\ttrain-auc:0.96434\tvalid-auc:0.88352\n",
      "[110]\ttrain-auc:0.96568\tvalid-auc:0.88298\n",
      "Fold 3/5\n",
      "[0]\ttrain-auc:0.90899\tvalid-auc:0.90495\n",
      "[50]\ttrain-auc:0.94703\tvalid-auc:0.91324\n",
      "[99]\ttrain-auc:0.96021\tvalid-auc:0.91075\n",
      "Fold 4/5\n",
      "[0]\ttrain-auc:0.90640\tvalid-auc:0.87801\n",
      "[50]\ttrain-auc:0.95308\tvalid-auc:0.87400\n",
      "[79]\ttrain-auc:0.96167\tvalid-auc:0.86543\n",
      "Fold 5/5\n",
      "[0]\ttrain-auc:0.92693\tvalid-auc:0.81072\n",
      "[50]\ttrain-auc:0.96495\tvalid-auc:0.79413\n",
      "[61]\ttrain-auc:0.96789\tvalid-auc:0.79002\n",
      "AUC on cross-validation : 0.8667611622962439\n",
      "Men best tree : 1285\n"
     ]
    }
   ],
   "source": [
    "X_cross = np.array(X_train)\n",
    "y_cross = np.array(y_train)\n",
    "test = np.array(X_test)\n",
    "id_test = X_test.index.values\n",
    "\n",
    "register_data = pd.DataFrame()\n",
    "register_data['id'] = id_test\n",
    "register_data['target'] = np.zeros_like(id_test)\n",
    "best_ntree = 0\n",
    "\n",
    "for i, (train_index, test_index) in enumerate(skf.split(X_cross, y_cross)): \n",
    "        print('Fold '+str(i+1)+'/'+str(kfold))\n",
    "        X_train_cross_val, X_val_cross_val = X_cross[train_index], X_cross[test_index]\n",
    "        y_train_cross_val, y_val_cross_val = y_cross[train_index], y_cross[test_index]\n",
    "\n",
    "\n",
    "        X_cross_val_train_xgb = xgboost.DMatrix(X_train_cross_val, y_train_cross_val)\n",
    "        X_cross_val_valid_xgb = xgboost.DMatrix(X_val_cross_val, y_val_cross_val)\n",
    "        X_test_xgb = xgboost.DMatrix(X_test.values)\n",
    "        watchlist = [(X_cross_val_train_xgb, 'train'), (X_cross_val_valid_xgb, 'valid')]\n",
    "\n",
    "        mdl = xgboost.train(xgb_params, X_cross_val_train_xgb , 2500, evals=watchlist, early_stopping_rounds=60, verbose_eval = 50)\n",
    "        best_ntree  += mdl.best_ntree_limit/kfold \n",
    "\n",
    "\n",
    "        # Predict on our test data\n",
    "        p_test = mdl.predict(X_test_xgb)\n",
    "        register_data['target'] += p_test/kfold\n",
    "    \n",
    "best_ntree = int(best_ntree)\n",
    "fpr, tpr, threshold = metrics.roc_curve(y_test, register_data.target)\n",
    "roc_auc = metrics.auc(fpr, tpr)\n",
    "after_opti = roc_auc\n",
    "print('AUC on cross-validation :',roc_auc)\n",
    "print('Men best tree :', best_ntree)"
   ]
  },
  {
   "cell_type": "code",
   "execution_count": 70,
   "metadata": {},
   "outputs": [
    {
     "name": "stdout",
     "output_type": "stream",
     "text": [
      "Improvement through optimization : 3.5709244883557005%\n"
     ]
    }
   ],
   "source": [
    "change =(after_opti*100 / before_opti) - 100\n",
    "print(\"Improvement through optimization : {}%\".format(change))"
   ]
  },
  {
   "cell_type": "code",
   "execution_count": 71,
   "metadata": {},
   "outputs": [
    {
     "name": "stdout",
     "output_type": "stream",
     "text": [
      "              precision    recall  f1-score   support\n",
      "\n",
      "           0       0.87      0.80      0.83        83\n",
      "           1       0.71      0.80      0.75        51\n",
      "\n",
      "    accuracy                           0.80       134\n",
      "   macro avg       0.79      0.80      0.79       134\n",
      "weighted avg       0.81      0.80      0.80       134\n",
      "\n"
     ]
    },
    {
     "data": {
      "image/png": "[encoded data removed]",
      "text/plain": [
       "<Figure size 720x360 with 3 Axes>"
      ]
     },
     "metadata": {
      "needs_background": "light"
     },
     "output_type": "display_data"
    }
   ],
   "source": [
    "threshold,classif_report=roc_curve_and_confusion_matrix(y_test, np.array(register_data.target), \"tuned XGBoost K-fold\")\n",
    "print(classif_report)"
   ]
  },
  {
   "cell_type": "code",
   "execution_count": 72,
   "metadata": {},
   "outputs": [],
   "source": [
    "X_train_xgb = xgboost.DMatrix(X, y)"
   ]
  },
  {
   "cell_type": "code",
   "execution_count": 73,
   "metadata": {},
   "outputs": [],
   "source": [
    "clf = xgboost.train(xgb_params, X_train_xgb , best_ntree, verbose_eval = 10)"
   ]
  },
  {
   "cell_type": "code",
   "execution_count": 74,
   "metadata": {},
   "outputs": [],
   "source": [
    "X_test_xgb = xgboost.DMatrix(df_test)"
   ]
  },
  {
   "cell_type": "code",
   "execution_count": 75,
   "metadata": {
    "scrolled": false
   },
   "outputs": [],
   "source": [
    "result = clf.predict(X_test_xgb)"
   ]
  },
  {
   "cell_type": "code",
   "execution_count": 76,
   "metadata": {},
   "outputs": [],
   "source": [
    "result_tresh=np.where(result >= threshold, 1, 0).astype(int)"
   ]
  },
  {
   "cell_type": "code",
   "execution_count": 77,
   "metadata": {},
   "outputs": [],
   "source": [
    "df_test_passengerID=pd.DataFrame(df_test_passengerID)"
   ]
  },
  {
   "cell_type": "code",
   "execution_count": 78,
   "metadata": {},
   "outputs": [],
   "source": [
    "df_test_passengerID[\"Survived\"] = result_tresh\n"
   ]
  },
  {
   "cell_type": "code",
   "execution_count": 79,
   "metadata": {},
   "outputs": [],
   "source": [
    "df_result = df_test_passengerID[[\"PassengerId\", \"Survived\"]]\n",
    "\n",
    "df_result.to_csv('XGBoost_Bayesian_optimization.csv', index=False)"
   ]
  }
 ],
 "metadata": {
  "kernelspec": {
   "display_name": "Python 3",
   "language": "python",
   "name": "python3"
  },
  "language_info": {
   "codemirror_mode": {
    "name": "ipython",
    "version": 3
   },
   "file_extension": ".py",
   "mimetype": "text/x-python",
   "name": "python",
   "nbconvert_exporter": "python",
   "pygments_lexer": "ipython3",
   "version": "3.9.1"
  }
 },
 "nbformat": 4,
 "nbformat_minor": 4
}
